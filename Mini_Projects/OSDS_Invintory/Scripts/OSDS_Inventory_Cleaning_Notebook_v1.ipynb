{
 "cells": [
  {
   "cell_type": "code",
   "execution_count": 4,
   "id": "c0e52ce2-def3-4266-b10c-c94c3a6e7942",
   "metadata": {},
   "outputs": [],
   "source": [
    "import arcpy\n",
    "arcpy.env.overwriteOutput = True \n",
    "from arcpy.sa import *\n",
    "from arcpy import env\n",
    "\n",
    "import matplotlib.pyplot as plt\n",
    "import os\n",
    "import pandas as pd\n",
    "import numpy as np"
   ]
  },
  {
   "cell_type": "code",
   "execution_count": null,
   "id": "da3287cb-d815-4792-a672-88acabf9d44c",
   "metadata": {},
   "outputs": [],
   "source": []
  },
  {
   "cell_type": "markdown",
   "id": "6bfdb7be-f35e-4065-8dbc-7c4081231dc3",
   "metadata": {},
   "source": [
    "## Notes about starting OSDS file \n",
    "- Need to merge the 4 islands together and standardize columns\n",
    "- Remove any injection well rows\n",
    "- "
   ]
  },
  {
   "cell_type": "markdown",
   "id": "c98e8f04-c83f-44b8-9284-e3011b3d65b8",
   "metadata": {},
   "source": [
    "### Read in input datasets "
   ]
  },
  {
   "cell_type": "code",
   "execution_count": null,
   "id": "66f4f394-bb64-4b77-a3da-efaeff80a19e",
   "metadata": {},
   "outputs": [],
   "source": [
    "## Read in the OSDS layer \n",
    "columns_nams = [field.name for field in arcpy.ListFields(osds_path)]     # List of all col names\n",
    "columns_nams.pop(1)  # remove stupid shape col                           # THe \"Shape\" col will make numpy array to pandas puke\n",
    "temparr = arcpy.da.FeatureClassToNumPyArray(osds_path, columns_nams)     # convert to numpy recarray\n",
    "\n",
    "osds_gdf = pd.DataFrame(temparr)         "
   ]
  },
  {
   "cell_type": "markdown",
   "id": "9b79d0d3-7a34-46c7-ae28-70db4e80c287",
   "metadata": {},
   "source": [
    "\n",
    "- Before we import clean up in excel a bit and convert to a csv   (del rando columns, removed the NO SERVICE ONES)   - Create the cleaned up copy \n",
    "- inport - cleaned up copy \n",
    "- clean up \n",
    "- merge the different islands sewer billing data csvs\n",
    "\n",
    "#### Notes about pre-import cleaning steps \n",
    "(note down all the stuff you did in excel for each island) \n",
    "\n",
    "# Now in the cell below import and create a single sewer billing data dataframe "
   ]
  },
  {
   "cell_type": "code",
   "execution_count": 22,
   "id": "40594e41-e967-4f5f-852a-17f388dd8401",
   "metadata": {},
   "outputs": [],
   "source": [
    "## Define paths to the input data \n",
    "\n",
    "osds_path = os.path.join(\"..\", \"Data\", \"Kauai_OSDS_SHP_Draft\", \"Kauai_2023.shp\")   ##### Will be raplaced by the ArcPro starting OSDS file  (link broken!!) \n",
    "\n",
    "Kauai_sewer_billing_data_path = os.path.join(\"..\", \"Data\", \"Kauai_Sewer_Data_DRAFT_Check.csv\") \n",
    "Kauai_sewer_billing_data_path\n",
    "\n",
    "# read the data into pandas dataframes  - Billing Data) \n",
    "sewer_df = pd.read_csv(sewer_billing_data_path) \n",
    "\n",
    "                              # Convert to pandas bliss\n",
    "\n",
    "### Output is a single dataframe with all the TMKs in the state that DO have sewer service "
   ]
  },
  {
   "cell_type": "code",
   "execution_count": null,
   "id": "fe353480-d9b0-4aec-98f7-612b63966bbf",
   "metadata": {},
   "outputs": [],
   "source": [
    "## Standardize the TMK column number format and Column name "
   ]
  },
  {
   "cell_type": "code",
   "execution_count": null,
   "id": "3caf3d58-b8cc-494b-b8ec-72269b216508",
   "metadata": {},
   "outputs": [],
   "source": []
  },
  {
   "cell_type": "code",
   "execution_count": null,
   "id": "77545440-69f2-4ef7-aa4f-d0e89c56b5a0",
   "metadata": {},
   "outputs": [],
   "source": [
    "## Identify which TMK's have a sewer bill "
   ]
  },
  {
   "cell_type": "code",
   "execution_count": null,
   "id": "210648a5-fdb8-4334-be71-d36cbb4c66e5",
   "metadata": {},
   "outputs": [],
   "source": []
  },
  {
   "cell_type": "code",
   "execution_count": null,
   "id": "bdf2569f-a048-40d0-9c0e-75060a02d373",
   "metadata": {},
   "outputs": [],
   "source": [
    "##### Start doing kind of the same thing with the laterals "
   ]
  },
  {
   "cell_type": "code",
   "execution_count": null,
   "id": "a757f0c6-fc2e-4612-9ff1-02cb499684b6",
   "metadata": {},
   "outputs": [],
   "source": []
  },
  {
   "cell_type": "code",
   "execution_count": null,
   "id": "2cd00b67-1f64-4d5a-8e74-8b1cefecd840",
   "metadata": {},
   "outputs": [],
   "source": [
    "\n"
   ]
  }
 ],
 "metadata": {
  "kernelspec": {
   "display_name": "Python 3 (ipykernel)",
   "language": "python",
   "name": "python3"
  },
  "language_info": {
   "codemirror_mode": {
    "name": "ipython",
    "version": 3
   },
   "file_extension": ".py",
   "mimetype": "text/x-python",
   "name": "python",
   "nbconvert_exporter": "python",
   "pygments_lexer": "ipython3",
   "version": "3.11.11"
  }
 },
 "nbformat": 4,
 "nbformat_minor": 5
}
