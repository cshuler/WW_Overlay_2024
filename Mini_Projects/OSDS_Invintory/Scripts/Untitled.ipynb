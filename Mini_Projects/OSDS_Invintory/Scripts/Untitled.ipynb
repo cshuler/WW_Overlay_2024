{
 "cells": [
  {
   "cell_type": "code",
   "execution_count": 4,
   "id": "c0e52ce2-def3-4266-b10c-c94c3a6e7942",
   "metadata": {},
   "outputs": [],
   "source": [
    "import arcpy\n",
    "arcpy.env.overwriteOutput = True \n",
    "from arcpy.sa import *\n",
    "from arcpy import env\n",
    "\n",
    "import matplotlib.pyplot as plt\n",
    "import os\n",
    "import pandas as pd\n",
    "import numpy as np"
   ]
  },
  {
   "cell_type": "markdown",
   "id": "c98e8f04-c83f-44b8-9284-e3011b3d65b8",
   "metadata": {},
   "source": [
    "### Read in input datasets "
   ]
  },
  {
   "cell_type": "code",
   "execution_count": null,
   "id": "40594e41-e967-4f5f-852a-17f388dd8401",
   "metadata": {},
   "outputs": [],
   "source": [
    "osds_path = \"Kauai_2023.shp\",\n",
    "\n",
    "osds_gdf = gpd.read_file(osds_path)\n",
    "sewer_df = pd.read_csv(sewer_path) "
   ]
  },
  {
   "cell_type": "code",
   "execution_count": null,
   "id": "210648a5-fdb8-4334-be71-d36cbb4c66e5",
   "metadata": {},
   "outputs": [],
   "source": []
  },
  {
   "cell_type": "code",
   "execution_count": null,
   "id": "bdf2569f-a048-40d0-9c0e-75060a02d373",
   "metadata": {},
   "outputs": [],
   "source": []
  },
  {
   "cell_type": "code",
   "execution_count": null,
   "id": "a757f0c6-fc2e-4612-9ff1-02cb499684b6",
   "metadata": {},
   "outputs": [],
   "source": []
  },
  {
   "cell_type": "code",
   "execution_count": null,
   "id": "2cd00b67-1f64-4d5a-8e74-8b1cefecd840",
   "metadata": {},
   "outputs": [],
   "source": []
  }
 ],
 "metadata": {
  "kernelspec": {
   "display_name": "Python 3 (ipykernel)",
   "language": "python",
   "name": "python3"
  },
  "language_info": {
   "codemirror_mode": {
    "name": "ipython",
    "version": 3
   },
   "file_extension": ".py",
   "mimetype": "text/x-python",
   "name": "python",
   "nbconvert_exporter": "python",
   "pygments_lexer": "ipython3",
   "version": "3.11.11"
  }
 },
 "nbformat": 4,
 "nbformat_minor": 5
}
