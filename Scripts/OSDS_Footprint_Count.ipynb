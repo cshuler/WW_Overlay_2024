{
 "cells": [
  {
   "cell_type": "code",
   "execution_count": 11,
   "id": "bebe0c7f",
   "metadata": {},
   "outputs": [
    {
     "name": "stdout",
     "output_type": "stream",
     "text": [
      "Adding count fields to parcels...\n",
      "Counting OSDS per parcel...\n",
      "Counting building footprints per parcel...\n",
      "Updating parcel attribute table with counts...\n",
      "Saving final output...\n",
      "Counts added. Final output saved at C:\\Users\\Sea Grant\\Documents\\GitHub\\WW_Overlay_2024\\Data\\Outputs\\Parcels_with_Counts.shp\n"
     ]
    }
   ],
   "source": [
    "import arcpy\n",
    "\n",
    "# -------------------------------------------------------------------\n",
    "# User-defined parameters\n",
    "# -------------------------------------------------------------------\n",
    "parcels_fc = r\"C:\\Users\\Sea Grant\\Documents\\GitHub\\WW_Overlay_2024\\Data\\Outputs\\TaxPlat_No_P1\\TaxPlat_No_P1.shp\"\n",
    "osds_fc = r\"C:\\Users\\Sea Grant\\Documents\\GitHub\\WW_Overlay_2024\\Data\\OSDS\\OahuOSDS\\On-site_Sewage_Disposal_Systems_-_Oahu.shp\"\n",
    "footprints_fc = r\"C:\\Users\\Sea Grant\\Documents\\GitHub\\WW_Overlay_2024\\Data\\Building_Footprint_Centerpoints\\Building_Footprint_CP_Projected\\Building_Footprint_CP_Projected.shp\"\n",
    "output_fc = r\"C:\\Users\\Sea Grant\\Documents\\GitHub\\WW_Overlay_2024\\Data\\Outputs\\Parcels_with_Counts.shp\"\n",
    "\n",
    "# -------------------------------------------------------------------\n",
    "# Output field names\n",
    "# -------------------------------------------------------------------\n",
    "osds_count_field = \"OSDS_Ct\"\n",
    "footprint_count_field = \"Ftprt_Ct\"\n",
    "\n",
    "# -------------------------------------------------------------------\n",
    "# 1. Add Fields for Counts in the Parcel Feature Class\n",
    "# -------------------------------------------------------------------\n",
    "print(\"Adding count fields to parcels...\")\n",
    "arcpy.env.overwriteOutput = True\n",
    "\n",
    "if osds_count_field not in [f.name for f in arcpy.ListFields(parcels_fc)]:\n",
    "    arcpy.management.AddField(parcels_fc, osds_count_field, \"LONG\")\n",
    "if footprint_count_field not in [f.name for f in arcpy.ListFields(parcels_fc)]:\n",
    "    arcpy.management.AddField(parcels_fc, footprint_count_field, \"LONG\")\n",
    "\n",
    "# -------------------------------------------------------------------\n",
    "# 2. Spatial Join for OSDS Counts (Points within Polygons)\n",
    "# -------------------------------------------------------------------\n",
    "print(\"Counting OSDS per parcel...\")\n",
    "osds_join_output = \"in_memory\\\\osds_join\"\n",
    "arcpy.analysis.SpatialJoin(\n",
    "    target_features=parcels_fc,\n",
    "    join_features=osds_fc,\n",
    "    out_feature_class=osds_join_output,\n",
    "    join_operation=\"JOIN_ONE_TO_ONE\",\n",
    "    join_type=\"KEEP_ALL\",\n",
    "    match_option=\"CONTAINS\"\n",
    ")\n",
    "\n",
    "# -------------------------------------------------------------------\n",
    "# 3. Spatial Join for Footprint Counts (Points within Polygons)\n",
    "# -------------------------------------------------------------------\n",
    "print(\"Counting building footprints per parcel...\")\n",
    "footprints_join_output = \"in_memory\\\\footprint_join\"\n",
    "arcpy.analysis.SpatialJoin(\n",
    "    target_features=osds_join_output,\n",
    "    join_features=footprints_fc,\n",
    "    out_feature_class=footprints_join_output,\n",
    "    join_operation=\"JOIN_ONE_TO_ONE\",\n",
    "    join_type=\"KEEP_ALL\",\n",
    "    match_option=\"CONTAINS\"\n",
    ")\n",
    "\n",
    "# -------------------------------------------------------------------\n",
    "# 4. Update the Attribute Table with the Counts\n",
    "# -------------------------------------------------------------------\n",
    "print(\"Updating parcel attribute table with counts...\")\n",
    "with arcpy.da.UpdateCursor(footprints_join_output, [\"Join_Count\", osds_count_field, footprint_count_field]) as cursor:\n",
    "    for row in cursor:\n",
    "        osds_count = row[0]  # Count of OSDS points from spatial join\n",
    "        footprint_count = row[1]  # Count of footprint points from spatial join\n",
    "        row[1] = osds_count if osds_count else 0  # Default to 0 if null\n",
    "        row[2] = footprint_count if footprint_count else 0\n",
    "        cursor.updateRow(row)\n",
    "\n",
    "# -------------------------------------------------------------------\n",
    "# 5. Save Final Output\n",
    "# -------------------------------------------------------------------\n",
    "print(\"Saving final output...\")\n",
    "arcpy.management.CopyFeatures(footprints_join_output, output_fc)\n",
    "\n",
    "print(f\"Counts added. Final output saved at {output_fc}\")\n"
   ]
  },
  {
   "cell_type": "code",
   "execution_count": null,
   "id": "afed760f",
   "metadata": {},
   "outputs": [],
   "source": []
  }
 ],
 "metadata": {
  "kernelspec": {
   "display_name": "Python 3 (ipykernel)",
   "language": "python",
   "name": "python3"
  },
  "language_info": {
   "codemirror_mode": {
    "name": "ipython",
    "version": 3
   },
   "file_extension": ".py",
   "mimetype": "text/x-python",
   "name": "python",
   "nbconvert_exporter": "python",
   "pygments_lexer": "ipython3",
   "version": "3.9.18"
  }
 },
 "nbformat": 4,
 "nbformat_minor": 5
}
