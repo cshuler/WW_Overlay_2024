{
 "cells": [
  {
   "cell_type": "code",
   "execution_count": 2,
   "id": "d9fe21b0",
   "metadata": {},
   "outputs": [],
   "source": [
    "import os \n",
    "import pandas as pd\n",
    "import numpy as np\n",
    "import arcpy\n"
   ]
  },
  {
   "cell_type": "code",
   "execution_count": 13,
   "id": "ad2c7aab",
   "metadata": {},
   "outputs": [],
   "source": [
    "# Enable overwriting of outputs\n",
    "arcpy.env.overwriteOutput = True\n",
    "\n",
    "\n",
    "# Input feature class (should contain TMK, Tax Plat, and Sewer fields)\n",
    "input_shapefile = r\"C:\\Users\\Sea Grant\\Desktop\\WW_Overlay\\KauaiTMK\\KauaiTMK_w_Plat.shp\"\n",
    "\n",
    "# Set the workspace automatically to the folder containing the shapefile\n",
    "workspace = os.path.dirname(input_shapefile)\n",
    "arcpy.env.workspace = workspace\n",
    "\n",
    "\n",
    "# Output temporary layers\n",
    "temp_output = \"in_memory\\\\temp_output\"\n",
    "# Delete temp_output if it exists\n",
    "if arcpy.Exists(temp_output):\n",
    "    arcpy.management.Delete(temp_output)\n",
    "\n",
    "# Create a copy of the input layer to avoid modifying the original\n",
    "arcpy.management.CopyFeatures(input_shapefile, temp_output)\n",
    "\n",
    "\n",
    "# Field names in the input feature class\n",
    "tax_plat_field = \"TaxPlat\"   # Field that groups records by Tax Plat\n",
    "sewer_field = \"Lateral\"        # Field indicating if the TMK intersects a sewer (e.g., \"Yes\")\n",
    "unique_field = \"TMK\"    # Unique identifier for each TMK record (change if necessary)\n",
    "\n",
    "# Field to be added that holds a numeric representation of sewer intersection\n",
    "sewer_num_field = \"SewerNum\"\n"
   ]
  },
  {
   "cell_type": "code",
   "execution_count": 14,
   "id": "15779834",
   "metadata": {},
   "outputs": [],
   "source": [
    "\n",
    "# Add and Calculate a Numeric Field for Sewer Intersection\n",
    "\n",
    "# Check if 'SewerNum' already exists; if not, add it as a short integer\n",
    "fields = [f.name for f in arcpy.ListFields(input_shapefile)]\n",
    "if sewer_num_field not in fields:\n",
    "    arcpy.AddField_management(in_table=input_shapefile,\n",
    "                              field_name=sewer_num_field,\n",
    "                              field_type=\"SHORT\")\n",
    "    arcpy.AddMessage(f\"Added field '{sewer_num_field}'.\")\n",
    "else:\n",
    "    arcpy.AddMessage(f\"Field '{sewer_num_field}' already exists.\")\n",
    "\n",
    "# Calculate the 'SewerNum' field: set to 1 if 'Sewer' equals \"Yes\"; otherwise, set to 0.\n",
    "calc_expression = \"1 if !{}! == 'Yes' else 0\".format(sewer_field)\n",
    "arcpy.CalculateField_management(in_table=input_shapefile,\n",
    "                                field=sewer_num_field,\n",
    "                                expression=calc_expression,\n",
    "                                expression_type=\"PYTHON3\")\n",
    "arcpy.AddMessage(f\"Calculated field '{sewer_num_field}' based on '{sewer_field}' values.\")\n"
   ]
  },
  {
   "cell_type": "code",
   "execution_count": 17,
   "id": "9d32c5cc",
   "metadata": {},
   "outputs": [],
   "source": [
    "\n",
    "#  Summarize Data by Tax Plat\n",
    "summary_table = r\"in_memory\\TaxPlat_SewerSummary\"\n",
    "\n",
    "# Define statistics:\n",
    "#   - COUNT of the unique_field gives the total number of TMKs per Tax Plat.\n",
    "#   - SUM of the SewerNum field gives the number of TMKs intersecting a sewer.\n",
    "statistics_fields = [[unique_field, \"COUNT\"], [sewer_num_field, \"SUM\"]]\n",
    "\n",
    "arcpy.AddMessage(\"Running Summary Statistics...\")\n",
    "arcpy.analysis.Statistics(in_table=input_shapefile,\n",
    "                          out_table=summary_table,\n",
    "                          statistics_fields=statistics_fields,\n",
    "                          case_field=[tax_plat_field])\n",
    "arcpy.AddMessage(\"Summary table created in memory.\")"
   ]
  },
  {
   "cell_type": "code",
   "execution_count": 19,
   "id": "2fc13644",
   "metadata": {},
   "outputs": [],
   "source": [
    "\n",
    "# Calculate the Percentage of TMKs Intersecting a Sewer\n",
    "\n",
    "# Add a new field to the summary table for the percentage\n",
    "perc_field = \"SewerPerc\"\n",
    "arcpy.AddField_management(in_table=summary_table,\n",
    "                          field_name=perc_field,\n",
    "                          field_type=\"DOUBLE\")\n",
    "arcpy.AddMessage(f\"Added percentage field '{perc_field}' to summary table.\")\n",
    "\n",
    "# The Statistics tool automatically names the output fields as follows:\n",
    "#   - \"COUNT_<unique_field>\" for the count of TMKs.\n",
    "#   - \"SUM_<sewer_num_field>\" for the sum of sewer intersections.\n",
    "count_field = \"COUNT_\" + unique_field\n",
    "sum_field   = \"SUM_\" + sewer_num_field\n",
    "\n",
    "# Define a code block that calculates the percentage.\n",
    "# This function checks if the count is zero to avoid division by zero.\n",
    "code_block = \"\"\"\n",
    "def calcPerc(count_val, sum_val):\n",
    "    if count_val == 0:\n",
    "        return 0\n",
    "    else:\n",
    "        return (sum_val / count_val) * 100\n",
    "\"\"\"\n",
    "\n",
    "# Use the code block in the Calculate Field tool.\n",
    "expression = \"calcPerc(!{0}!, !{1}!)\".format(count_field, sum_field)\n",
    "\n",
    "arcpy.CalculateField_management(in_table=summary_table,\n",
    "                                field=perc_field,\n",
    "                                expression=expression,\n",
    "                                expression_type=\"PYTHON3\",\n",
    "                                code_block=code_block)\n",
    "arcpy.AddMessage(f\"Calculated percentage field '{perc_field}'.\")\n"
   ]
  },
  {
   "cell_type": "code",
   "execution_count": 32,
   "id": "27a2b9d7",
   "metadata": {
    "scrolled": true
   },
   "outputs": [],
   "source": [
    "#Join the Summary Table Back to the Input Shapefile\n",
    "# -------------------------------\n",
    "# This join adds the calculated SewerPerc field (from the summary table) to each TMK record.\n",
    "arcpy.JoinField_management(in_data=input_shapefile,\n",
    "                           in_field=tax_plat_field,\n",
    "                           join_table=summary_table,\n",
    "                           join_field=tax_plat_field,\n",
    "                           fields=[perc_field])\n",
    "arcpy.AddMessage(f\"Joined summary table to input shapefile, adding field '{perc_field}'.\")\n",
    "\n",
    "# To ensure the join is permanent, make a copy of the joined features.\n",
    "joined_fc = os.path.join(workspace, \"TMK_TaxPlat_Joined.shp\")\n",
    "arcpy.CopyFeatures_management(in_features=input_shapefile, out_feature_class=joined_fc)\n",
    "arcpy.AddMessage(f\"Copied joined features to permanent feature class: {joined_fc}\")\n",
    "\n",
    "out_feature_class = r\"C:\\Users\\Sea Grant\\Documents\\ArcGIS\\Projects\\Kauai_LateralMaps\\Kauai_LateralMaps.gdb\\KauaiTMK_w_Plat_Dissolve.shp\""
   ]
  },
  {
   "cell_type": "code",
   "execution_count": 36,
   "id": "62f820fe",
   "metadata": {},
   "outputs": [
    {
     "data": {
      "text/html": [
       "<div class='gpresult'><h2>Messages</h2><div id='messages' data-messages='[\"Start Time: Tuesday, February 11, 2025 8:52:10 PM\",\"Sorting Attributes...\",\"Dissolving...\",\"Succeeded at Tuesday, February 11, 2025 8:52:12 PM (Elapsed Time: 1.69 seconds)\"]' data-show='true'><div id = 'default' /></div></div>"
      ],
      "text/plain": [
       "<Result 'C:\\\\Users\\\\Sea Grant\\\\Documents\\\\ArcGIS\\\\Projects\\\\Kauai_LateralMaps\\\\Kauai_LateralMaps.gdb\\\\KauaiTMK_w_Plat_Dissolve.shp'>"
      ]
     },
     "execution_count": 36,
     "metadata": {},
     "output_type": "execute_result"
    }
   ],
   "source": [
    "arcpy.management.Dissolve(input_shapefile, out_feature_class, tax_plat_field)"
   ]
  },
  {
   "cell_type": "code",
   "execution_count": null,
   "id": "60e6d567",
   "metadata": {},
   "outputs": [],
   "source": []
  }
 ],
 "metadata": {
  "kernelspec": {
   "display_name": "Python 3 (ipykernel)",
   "language": "python",
   "name": "python3"
  },
  "language_info": {
   "codemirror_mode": {
    "name": "ipython",
    "version": 3
   },
   "file_extension": ".py",
   "mimetype": "text/x-python",
   "name": "python",
   "nbconvert_exporter": "python",
   "pygments_lexer": "ipython3",
   "version": "3.11.10"
  }
 },
 "nbformat": 4,
 "nbformat_minor": 5
}
