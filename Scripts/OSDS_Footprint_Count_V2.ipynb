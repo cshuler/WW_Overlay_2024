{
 "cells": [
  {
   "cell_type": "code",
   "execution_count": 7,
   "id": "9b128f7e",
   "metadata": {
    "scrolled": true
   },
   "outputs": [
    {
     "name": "stdout",
     "output_type": "stream",
     "text": [
      "Adding count fields to parcels...\n",
      "Counting footprint per parcel...\n",
      "Updating parcel attribute table with counts...\n",
      "Saving final output...\n",
      "Counts added. Final output saved at C:\\Users\\Sea Grant\\Documents\\GitHub\\WW_Overlay_2024\\Data\\Outputs\\Parcels_with_Counts_Footprints.shp\n"
     ]
    }
   ],
   "source": [
    "import arcpy\n",
    "\n",
    "# -------------------------------------------------------------------\n",
    "# User-defined parameters\n",
    "# -------------------------------------------------------------------\n",
    "parcels_fc = r\"C:\\Users\\Sea Grant\\Documents\\GitHub\\WW_Overlay_2024\\Data\\Outputs\\TaxPlat_No_P1\\TaxPlat_No_P1.shp\"\n",
    "footprints_fc = r\"C:\\Users\\Sea Grant\\Documents\\GitHub\\WW_Overlay_2024\\Data\\Building_Footprint_Centerpoints\\Building_Footprint_CP_Projected\\Building_Footprint_CP_Projected.shp\"\n",
    "output_fc = r\"C:\\Users\\Sea Grant\\Documents\\GitHub\\WW_Overlay_2024\\Data\\Outputs\\Parcels_with_Counts_Footprints.shp\"\n",
    "\n",
    "# -------------------------------------------------------------------\n",
    "# Output field names\n",
    "# -------------------------------------------------------------------\n",
    "footprint_count_field = \"Ftprt_Ct\"\n",
    "\n",
    "# -------------------------------------------------------------------\n",
    "# 1. Add Fields for Counts in the Parcel Feature Class\n",
    "# -------------------------------------------------------------------\n",
    "print(\"Adding count fields to parcels...\")\n",
    "arcpy.env.overwriteOutput = True\n",
    "\n",
    "if footprint_count_field not in [f.name for f in arcpy.ListFields(parcels_fc)]:\n",
    "    arcpy.management.AddField(parcels_fc, footprint_count_field, \"LONG\")\n",
    "\n",
    "# -------------------------------------------------------------------\n",
    "# 2. Spatial Join for OSDS Counts (Points within Polygons)\n",
    "# -------------------------------------------------------------------\n",
    "print(\"Counting footprint per parcel...\")\n",
    "osds_join_output = \"in_memory\\\\osds_join\"\n",
    "arcpy.analysis.SpatialJoin(\n",
    "    target_features=parcels_fc,\n",
    "    join_features=footprints_fc,\n",
    "    out_feature_class=footprints_join_output,\n",
    "    join_operation=\"JOIN_ONE_TO_ONE\",\n",
    "    join_type=\"KEEP_ALL\",\n",
    "    match_option=\"CONTAINS\"\n",
    ")\n",
    "\n",
    "\n",
    "\n",
    "\n",
    "# -------------------------------------------------------------------\n",
    "# 4. Update the Attribute Table with the Counts\n",
    "# -------------------------------------------------------------------\n",
    "print(\"Updating parcel attribute table with counts...\")\n",
    "with arcpy.da.UpdateCursor(footprints_join_output, [\"Join_Count\", footprint_count_field]) as cursor:\n",
    "    for row in cursor:\n",
    "        footprint_count = row[0]  # Count of footprint points from spatial join\n",
    "        row[1] = footprint_count if footprint_count else 0\n",
    "        cursor.updateRow(row)\n",
    "\n",
    "# -------------------------------------------------------------------\n",
    "# 5. Save Final Output\n",
    "# -------------------------------------------------------------------\n",
    "print(\"Saving final output...\")\n",
    "arcpy.management.CopyFeatures(footprints_join_output, output_fc)\n",
    "\n",
    "print(f\"Counts added. Final output saved at {output_fc}\")\n"
   ]
  },
  {
   "cell_type": "code",
   "execution_count": null,
   "id": "f8fa2a78",
   "metadata": {},
   "outputs": [],
   "source": []
  }
 ],
 "metadata": {
  "kernelspec": {
   "display_name": "Python 3 (ipykernel)",
   "language": "python",
   "name": "python3"
  },
  "language_info": {
   "codemirror_mode": {
    "name": "ipython",
    "version": 3
   },
   "file_extension": ".py",
   "mimetype": "text/x-python",
   "name": "python",
   "nbconvert_exporter": "python",
   "pygments_lexer": "ipython3",
   "version": "3.9.18"
  }
 },
 "nbformat": 4,
 "nbformat_minor": 5
}
