{
 "cells": [
  {
   "cell_type": "code",
   "execution_count": 10,
   "id": "9f52d6d9",
   "metadata": {},
   "outputs": [],
   "source": [
    "import arcpy\n",
    "import os\n",
    "\n",
    "# Paths to your layers\n",
    "tmk_layer = os.path.join(\"..\",  'Data/Parcels/OahuTMKshp', 'OahuTMK.shp')  # Update with your TMK layer path\n",
    "sewer_main_layer = os.path.join(\"..\",  'Data/SewerMains/OahuSewerMains', 'Sewer_Main')  # Update with your Sewer Main layer path\n",
    "cesspool_layer = os.path.join(\"..\",  'Data/OSDS/OahuOSDS', 'On-site_Sewage_Disposal_Systems_-_Oahu.shp')  # Update with your Cesspool layer path\n",
    "\n",
    "# Enable overwriting of existing files\n",
    "arcpy.env.overwriteOutput = True\n"
   ]
  },
  {
   "cell_type": "code",
   "execution_count": 11,
   "id": "5080033a",
   "metadata": {},
   "outputs": [],
   "source": [
    "# Add fields to the TMK layer\n",
    "fields_to_add = [(\"Mains\", \"TEXT\"), (\"Cesspools\", \"TEXT\")]\n",
    "for field_name, field_type in fields_to_add:\n",
    "    if field_name not in [f.name for f in arcpy.ListFields(tmk_layer)]:\n",
    "        arcpy.AddField_management(tmk_layer, field_name, field_type, field_length=3)"
   ]
  },
  {
   "cell_type": "code",
   "execution_count": 12,
   "id": "466e9a37",
   "metadata": {},
   "outputs": [
    {
     "ename": "ExecuteError",
     "evalue": "ERROR 160327: A column was specified that does not exist.\nFailed to execute (SelectLayerByAttribute).\n",
     "output_type": "error",
     "traceback": [
      "\u001b[1;31m---------------------------------------------------------------------------\u001b[0m",
      "\u001b[1;31mExecuteError\u001b[0m                              Traceback (most recent call last)",
      "\u001b[1;32m~\\AppData\\Local\\Temp\\ipykernel_38196\\3394885650.py\u001b[0m in \u001b[0;36m<cell line: 7>\u001b[1;34m()\u001b[0m\n\u001b[0;32m     11\u001b[0m         \u001b[1;31m# Create a query to select the current TMK\u001b[0m\u001b[1;33m\u001b[0m\u001b[1;33m\u001b[0m\u001b[0m\n\u001b[0;32m     12\u001b[0m         \u001b[0mtmk_query\u001b[0m \u001b[1;33m=\u001b[0m \u001b[1;34mf\"OBJECTID = {oid}\"\u001b[0m\u001b[1;33m\u001b[0m\u001b[1;33m\u001b[0m\u001b[0m\n\u001b[1;32m---> 13\u001b[1;33m         \u001b[0marcpy\u001b[0m\u001b[1;33m.\u001b[0m\u001b[0mSelectLayerByAttribute_management\u001b[0m\u001b[1;33m(\u001b[0m\u001b[1;34m\"TMK_Layer2\"\u001b[0m\u001b[1;33m,\u001b[0m \u001b[1;34m\"NEW_SELECTION\"\u001b[0m\u001b[1;33m,\u001b[0m \u001b[0mtmk_query\u001b[0m\u001b[1;33m)\u001b[0m\u001b[1;33m\u001b[0m\u001b[1;33m\u001b[0m\u001b[0m\n\u001b[0m\u001b[0;32m     14\u001b[0m \u001b[1;33m\u001b[0m\u001b[0m\n\u001b[0;32m     15\u001b[0m         \u001b[1;31m# Check for intersection with Sewer mains\u001b[0m\u001b[1;33m\u001b[0m\u001b[1;33m\u001b[0m\u001b[0m\n",
      "\u001b[1;32mC:\\Program Files\\ArcGIS\\Pro\\Resources\\ArcPy\\arcpy\\management.py\u001b[0m in \u001b[0;36mSelectLayerByAttribute\u001b[1;34m(in_layer_or_view, selection_type, where_clause, invert_where_clause)\u001b[0m\n\u001b[0;32m  10449\u001b[0m         \u001b[1;32mreturn\u001b[0m \u001b[0mretval\u001b[0m\u001b[1;33m\u001b[0m\u001b[1;33m\u001b[0m\u001b[0m\n\u001b[0;32m  10450\u001b[0m     \u001b[1;32mexcept\u001b[0m \u001b[0mException\u001b[0m \u001b[1;32mas\u001b[0m \u001b[0me\u001b[0m\u001b[1;33m:\u001b[0m\u001b[1;33m\u001b[0m\u001b[1;33m\u001b[0m\u001b[0m\n\u001b[1;32m> 10451\u001b[1;33m         \u001b[1;32mraise\u001b[0m \u001b[0me\u001b[0m\u001b[1;33m\u001b[0m\u001b[1;33m\u001b[0m\u001b[0m\n\u001b[0m\u001b[0;32m  10452\u001b[0m \u001b[1;33m\u001b[0m\u001b[0m\n\u001b[0;32m  10453\u001b[0m \u001b[1;33m@\u001b[0m\u001b[0mgptooldoc\u001b[0m\u001b[1;33m(\u001b[0m\u001b[1;34m'SelectLayerByLocation_management'\u001b[0m\u001b[1;33m,\u001b[0m \u001b[1;32mNone\u001b[0m\u001b[1;33m)\u001b[0m\u001b[1;33m\u001b[0m\u001b[1;33m\u001b[0m\u001b[0m\n",
      "\u001b[1;32mC:\\Program Files\\ArcGIS\\Pro\\Resources\\ArcPy\\arcpy\\management.py\u001b[0m in \u001b[0;36mSelectLayerByAttribute\u001b[1;34m(in_layer_or_view, selection_type, where_clause, invert_where_clause)\u001b[0m\n\u001b[0;32m  10446\u001b[0m     \u001b[1;32mfrom\u001b[0m \u001b[0marcpy\u001b[0m\u001b[1;33m.\u001b[0m\u001b[0marcobjects\u001b[0m\u001b[1;33m.\u001b[0m\u001b[0marcobjectconversion\u001b[0m \u001b[1;32mimport\u001b[0m \u001b[0mconvertArcObjectToPythonObject\u001b[0m\u001b[1;33m\u001b[0m\u001b[1;33m\u001b[0m\u001b[0m\n\u001b[0;32m  10447\u001b[0m     \u001b[1;32mtry\u001b[0m\u001b[1;33m:\u001b[0m\u001b[1;33m\u001b[0m\u001b[1;33m\u001b[0m\u001b[0m\n\u001b[1;32m> 10448\u001b[1;33m         \u001b[0mretval\u001b[0m \u001b[1;33m=\u001b[0m \u001b[0mconvertArcObjectToPythonObject\u001b[0m\u001b[1;33m(\u001b[0m\u001b[0mgp\u001b[0m\u001b[1;33m.\u001b[0m\u001b[0mSelectLayerByAttribute_management\u001b[0m\u001b[1;33m(\u001b[0m\u001b[1;33m*\u001b[0m\u001b[0mgp_fixargs\u001b[0m\u001b[1;33m(\u001b[0m\u001b[1;33m(\u001b[0m\u001b[0min_layer_or_view\u001b[0m\u001b[1;33m,\u001b[0m \u001b[0mselection_type\u001b[0m\u001b[1;33m,\u001b[0m \u001b[0mwhere_clause\u001b[0m\u001b[1;33m,\u001b[0m \u001b[0minvert_where_clause\u001b[0m\u001b[1;33m)\u001b[0m\u001b[1;33m,\u001b[0m \u001b[1;32mTrue\u001b[0m\u001b[1;33m)\u001b[0m\u001b[1;33m)\u001b[0m\u001b[1;33m)\u001b[0m\u001b[1;33m\u001b[0m\u001b[1;33m\u001b[0m\u001b[0m\n\u001b[0m\u001b[0;32m  10449\u001b[0m         \u001b[1;32mreturn\u001b[0m \u001b[0mretval\u001b[0m\u001b[1;33m\u001b[0m\u001b[1;33m\u001b[0m\u001b[0m\n\u001b[0;32m  10450\u001b[0m     \u001b[1;32mexcept\u001b[0m \u001b[0mException\u001b[0m \u001b[1;32mas\u001b[0m \u001b[0me\u001b[0m\u001b[1;33m:\u001b[0m\u001b[1;33m\u001b[0m\u001b[1;33m\u001b[0m\u001b[0m\n",
      "\u001b[1;32mC:\\Program Files\\ArcGIS\\Pro\\Resources\\ArcPy\\arcpy\\geoprocessing\\_base.py\u001b[0m in \u001b[0;36m<lambda>\u001b[1;34m(*args)\u001b[0m\n\u001b[0;32m    518\u001b[0m         \u001b[0mval\u001b[0m \u001b[1;33m=\u001b[0m \u001b[0mgetattr\u001b[0m\u001b[1;33m(\u001b[0m\u001b[0mself\u001b[0m\u001b[1;33m.\u001b[0m\u001b[0m_gp\u001b[0m\u001b[1;33m,\u001b[0m \u001b[0mattr\u001b[0m\u001b[1;33m)\u001b[0m\u001b[1;33m\u001b[0m\u001b[1;33m\u001b[0m\u001b[0m\n\u001b[0;32m    519\u001b[0m         \u001b[1;32mif\u001b[0m \u001b[0mcallable\u001b[0m\u001b[1;33m(\u001b[0m\u001b[0mval\u001b[0m\u001b[1;33m)\u001b[0m\u001b[1;33m:\u001b[0m\u001b[1;33m\u001b[0m\u001b[1;33m\u001b[0m\u001b[0m\n\u001b[1;32m--> 520\u001b[1;33m             \u001b[1;32mreturn\u001b[0m \u001b[1;32mlambda\u001b[0m \u001b[1;33m*\u001b[0m\u001b[0margs\u001b[0m\u001b[1;33m:\u001b[0m \u001b[0mval\u001b[0m\u001b[1;33m(\u001b[0m\u001b[1;33m*\u001b[0m\u001b[0mgp_fixargs\u001b[0m\u001b[1;33m(\u001b[0m\u001b[0margs\u001b[0m\u001b[1;33m,\u001b[0m \u001b[1;32mTrue\u001b[0m\u001b[1;33m)\u001b[0m\u001b[1;33m)\u001b[0m\u001b[1;33m\u001b[0m\u001b[1;33m\u001b[0m\u001b[0m\n\u001b[0m\u001b[0;32m    521\u001b[0m         \u001b[1;32melse\u001b[0m\u001b[1;33m:\u001b[0m\u001b[1;33m\u001b[0m\u001b[1;33m\u001b[0m\u001b[0m\n\u001b[0;32m    522\u001b[0m             \u001b[1;32mreturn\u001b[0m \u001b[0mconvertArcObjectToPythonObject\u001b[0m\u001b[1;33m(\u001b[0m\u001b[0mval\u001b[0m\u001b[1;33m)\u001b[0m\u001b[1;33m\u001b[0m\u001b[1;33m\u001b[0m\u001b[0m\n",
      "\u001b[1;31mExecuteError\u001b[0m: ERROR 160327: A column was specified that does not exist.\nFailed to execute (SelectLayerByAttribute).\n"
     ]
    }
   ],
   "source": [
    "# Create temporary layers\n",
    "arcpy.MakeFeatureLayer_management(tmk_layer, \"TMK_Layer2\")\n",
    "arcpy.MakeFeatureLayer_management(sewer_main_layer, \"SewerMain_Layer2\")\n",
    "arcpy.MakeFeatureLayer_management(cesspool_layer, \"Cesspool_Layer2\")\n",
    "\n",
    "# Initialize an update cursor to update the \"Mains\" and \"Cesspools\" fields\n",
    "with arcpy.da.UpdateCursor(tmk_layer, [\"OID@\", \"Mains\", \"Cesspools\"]) as cursor:\n",
    "    for row in cursor:\n",
    "        oid = row[0]\n",
    "        \n",
    "        # Create a query to select the current TMK\n",
    "        tmk_query = f\"OBJECTID = {oid}\"\n",
    "        arcpy.SelectLayerByAttribute_management(\"TMK_Layer2\", \"NEW_SELECTION\", tmk_query)\n",
    "        \n",
    "        # Check for intersection with Sewer mains\n",
    "        arcpy.SelectLayerByLocation_management(\"SewerMain_Layer2\", \"INTERSECT\", \"TMK_Layer2\")\n",
    "        intersects_mains = arcpy.Describe(\"SewerMain_Layer2\").FIDSet  # Get intersected features\n",
    "        row[1] = \"Yes\" if intersects_mains else \"No\"\n",
    "        \n",
    "        # Check for intersection with Cesspools\n",
    "        arcpy.SelectLayerByLocation_management(\"Cesspool_Layer2\", \"INTERSECT\", \"TMK_Layer2\")\n",
    "        intersects_cesspools = arcpy.Describe(\"Cesspool_Layer2\").FIDSet\n",
    "        row[2] = \"Yes\" if intersects_cesspools else \"No\"\n",
    "        \n",
    "        # Update the row\n",
    "        cursor.updateRow(row)\n",
    "\n",
    "# Clear selections\n",
    "arcpy.SelectLayerByAttribute_management(\"TMK_Layer2\", \"CLEAR_SELECTION\")\n",
    "arcpy.SelectLayerByAttribute_management(\"SewerMain_Layer2\", \"CLEAR_SELECTION\")\n",
    "arcpy.SelectLayerByAttribute_management(\"Cesspool_Layer2\", \"CLEAR_SELECTION\")\n",
    "\n",
    "print(\"Analysis complete. Fields updated!\")"
   ]
  },
  {
   "cell_type": "code",
   "execution_count": null,
   "id": "2f2e3eee",
   "metadata": {},
   "outputs": [],
   "source": []
  }
 ],
 "metadata": {
  "kernelspec": {
   "display_name": "Python 3 (ipykernel)",
   "language": "python",
   "name": "python3"
  },
  "language_info": {
   "codemirror_mode": {
    "name": "ipython",
    "version": 3
   },
   "file_extension": ".py",
   "mimetype": "text/x-python",
   "name": "python",
   "nbconvert_exporter": "python",
   "pygments_lexer": "ipython3",
   "version": "3.9.18"
  }
 },
 "nbformat": 4,
 "nbformat_minor": 5
}
