{
 "cells": [
  {
   "cell_type": "code",
   "execution_count": null,
   "id": "d9fe21b0",
   "metadata": {},
   "outputs": [],
   "source": [
    "import arcpy\n",
    "import os\n",
    "\n",
    "# -------------------------------\n",
    "# User-defined parameters\n",
    "# -------------------------------\n",
    "\n",
    "# Path to the geodatabase (or folder) where your data reside.\n",
    "# Update this to the workspace containing your layers.\n",
    "workspace = r\"C:\\GISData\\mydata.gdb\"\n",
    "arcpy.env.workspace = workspace\n",
    "\n",
    "# Input layers\n",
    "tmk_layer = os.path.join(workspace, \"TMK_layer\")           # Replace with your TMK layer name/path\n",
    "tax_plat_layer = os.path.join(workspace, \"Tax_Plat_layer\")   # Replace with your Tax Plat layer name/path\n",
    "\n",
    "# Field names (update if necessary)\n",
    "unique_tmk_field = \"OBJECTID\"    # Unique identifier field in the TMK layer (e.g., \"OBJECTID\" or \"TMK_ID\")\n",
    "tax_plat_id_field = \"Plat_ID\"    # Tax Plat ID field used for the case field and join\n",
    "\n",
    "# Output summary table name (will be created in the workspace)\n",
    "summary_table_name = \"TMK_Counts_Summary\"\n",
    "summary_table = os.path.join(workspace, summary_table_name)\n"
   ]
  },
  {
   "cell_type": "code",
   "execution_count": null,
   "id": "ad2c7aab",
   "metadata": {},
   "outputs": [],
   "source": [
    "# -------------------------------\n",
    "# Step 1: Create a Summary Table of TMK Counts\n",
    "# -------------------------------\n",
    "#\n",
    "# This step uses the Summary Statistics tool to count the number of TMK records\n",
    "# for each Tax Plat (Plat_ID). The tool calculates a COUNT statistic for the unique\n",
    "# TMK field grouped by the Tax Plat ID (case field).\n",
    "#\n",
    "\n",
    "# Prepare the statistics field parameter.\n",
    "# The output field in the summary table will be named \"COUNT_<unique_tmk_field>\"\n",
    "statistics_fields = [[unique_tmk_field, \"COUNT\"]]\n",
    "\n",
    "# Run the Summary Statistics tool\n",
    "print(\"Running Summary Statistics to create the summary table...\")\n",
    "arcpy.analysis.Statistics(in_table=tmk_layer,\n",
    "                            out_table=summary_table,\n",
    "                            statistics_fields=statistics_fields,\n",
    "                            case_field=[tax_plat_id_field])\n",
    "print(\"Summary table created at: {}\".format(summary_table))\n",
    "\n",
    "# -------------------------------\n"
   ]
  },
  {
   "cell_type": "code",
   "execution_count": null,
   "id": "15779834",
   "metadata": {},
   "outputs": [],
   "source": [
    "Step 2: Join the Summary Table to the Tax Plat Layer\n",
    "# -------------------------------\n",
    "#\n",
    "# This step uses the Join Field tool to attach the count from the summary table\n",
    "# to the corresponding records in the Tax Plat layer using the Tax Plat ID field.\n",
    "#\n",
    "\n",
    "# The name of the count field in the summary table is automatically generated\n",
    "# as \"COUNT_<unique_tmk_field>\" (e.g., \"COUNT_OBJECTID\").\n",
    "count_field_name = \"COUNT_\" + unique_tmk_field\n",
    "\n",
    "# Run the Join Field tool\n",
    "print(\"Joining summary table to the Tax Plat layer...\")\n",
    "arcpy.management.JoinField(in_data=tax_plat_layer,\n",
    "                           in_field=tax_plat_id_field,\n",
    "                           join_table=summary_table,\n",
    "                           join_field=tax_plat_id_field,\n",
    "                           fields=[count_field_name])\n",
    "print(\"Join completed. Field '{}' has been added to the Tax Plat layer.\".format(count_field_name))"
   ]
  }
 ],
 "metadata": {
  "kernelspec": {
   "display_name": "Python 3 (ipykernel)",
   "language": "python",
   "name": "python3"
  },
  "language_info": {
   "codemirror_mode": {
    "name": "ipython",
    "version": 3
   },
   "file_extension": ".py",
   "mimetype": "text/x-python",
   "name": "python",
   "nbconvert_exporter": "python",
   "pygments_lexer": "ipython3",
   "version": "3.9.18"
  }
 },
 "nbformat": 4,
 "nbformat_minor": 5
}
