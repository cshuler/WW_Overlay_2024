{
 "cells": [
  {
   "cell_type": "code",
   "execution_count": 4,
   "id": "fbd0498a",
   "metadata": {},
   "outputs": [
    {
     "name": "stdout",
     "output_type": "stream",
     "text": [
      "Calculating original parcel areas...\n"
     ]
    },
    {
     "ename": "RuntimeError",
     "evalue": "ERROR 999999: Something unexpected caused the tool to fail. Contact Esri Technical Support (http://esriurl.com/support) to Report a Bug, and refer to the error help for potential solutions or workarounds.",
     "output_type": "error",
     "traceback": [
      "\u001b[1;31m---------------------------------------------------------------------------\u001b[0m",
      "\u001b[1;31mRuntimeError\u001b[0m                              Traceback (most recent call last)",
      "\u001b[1;32m~\\AppData\\Local\\Temp\\ipykernel_38612\\2230988444.py\u001b[0m in \u001b[0;36m<cell line: 19>\u001b[1;34m()\u001b[0m\n\u001b[0;32m     17\u001b[0m \u001b[1;31m# -------------------------------------------------------------------\u001b[0m\u001b[1;33m\u001b[0m\u001b[1;33m\u001b[0m\u001b[0m\n\u001b[0;32m     18\u001b[0m \u001b[0mprint\u001b[0m\u001b[1;33m(\u001b[0m\u001b[1;34m\"Calculating original parcel areas...\"\u001b[0m\u001b[1;33m)\u001b[0m\u001b[1;33m\u001b[0m\u001b[1;33m\u001b[0m\u001b[0m\n\u001b[1;32m---> 19\u001b[1;33m \u001b[1;32mif\u001b[0m \u001b[0moriginal_area_field\u001b[0m \u001b[1;32mnot\u001b[0m \u001b[1;32min\u001b[0m \u001b[1;33m[\u001b[0m\u001b[0mf\u001b[0m\u001b[1;33m.\u001b[0m\u001b[0mname\u001b[0m \u001b[1;32mfor\u001b[0m \u001b[0mf\u001b[0m \u001b[1;32min\u001b[0m \u001b[0marcpy\u001b[0m\u001b[1;33m.\u001b[0m\u001b[0mListFields\u001b[0m\u001b[1;33m(\u001b[0m\u001b[0mparcels_fc\u001b[0m\u001b[1;33m)\u001b[0m\u001b[1;33m]\u001b[0m\u001b[1;33m:\u001b[0m\u001b[1;33m\u001b[0m\u001b[1;33m\u001b[0m\u001b[0m\n\u001b[0m\u001b[0;32m     20\u001b[0m     \u001b[0marcpy\u001b[0m\u001b[1;33m.\u001b[0m\u001b[0mmanagement\u001b[0m\u001b[1;33m.\u001b[0m\u001b[0mAddField\u001b[0m\u001b[1;33m(\u001b[0m\u001b[0mparcels_fc\u001b[0m\u001b[1;33m,\u001b[0m \u001b[0moriginal_area_field\u001b[0m\u001b[1;33m,\u001b[0m \u001b[1;34m\"DOUBLE\"\u001b[0m\u001b[1;33m)\u001b[0m\u001b[1;33m\u001b[0m\u001b[1;33m\u001b[0m\u001b[0m\n\u001b[0;32m     21\u001b[0m     arcpy.management.CalculateGeometryAttributes(\n",
      "\u001b[1;32mC:\\Program Files\\ArcGIS\\Pro\\Resources\\ArcPy\\arcpy\\__init__.py\u001b[0m in \u001b[0;36mListFields\u001b[1;34m(dataset, wild_card, field_type)\u001b[0m\n\u001b[0;32m   1212\u001b[0m \u001b[1;33m\u001b[0m\u001b[0m\n\u001b[0;32m   1213\u001b[0m         * String:   Only field types of String are returned.\"\"\"\n\u001b[1;32m-> 1214\u001b[1;33m     \u001b[1;32mreturn\u001b[0m \u001b[0mgp\u001b[0m\u001b[1;33m.\u001b[0m\u001b[0mlistFields\u001b[0m\u001b[1;33m(\u001b[0m\u001b[0mdataset\u001b[0m\u001b[1;33m,\u001b[0m \u001b[0mwild_card\u001b[0m\u001b[1;33m,\u001b[0m \u001b[0mfield_type\u001b[0m\u001b[1;33m)\u001b[0m\u001b[1;33m\u001b[0m\u001b[1;33m\u001b[0m\u001b[0m\n\u001b[0m\u001b[0;32m   1215\u001b[0m \u001b[1;33m\u001b[0m\u001b[0m\n\u001b[0;32m   1216\u001b[0m \u001b[1;33m@\u001b[0m\u001b[0m_gptooldoc\u001b[0m\u001b[1;33m(\u001b[0m\u001b[1;32mNone\u001b[0m\u001b[1;33m,\u001b[0m \u001b[1;33m[\u001b[0m\u001b[1;33m[\u001b[0m\u001b[1;33m[\u001b[0m\u001b[1;34m\"FeatureLayer\"\u001b[0m\u001b[1;33m,\u001b[0m \u001b[1;34m\"Table\"\u001b[0m\u001b[1;33m,\u001b[0m \u001b[1;34m\"TableView\"\u001b[0m\u001b[1;33m,\u001b[0m \u001b[1;34m\"Dataset\"\u001b[0m\u001b[1;33m,\u001b[0m \u001b[1;34m\"FeatureDataset\"\u001b[0m\u001b[1;33m]\u001b[0m\u001b[1;33m,\u001b[0m \u001b[1;34m\"\"\u001b[0m\u001b[1;33m,\u001b[0m \u001b[1;34m\"\"\u001b[0m\u001b[1;33m,\u001b[0m \u001b[1;34m\"\"\u001b[0m\u001b[1;33m]\u001b[0m\u001b[1;33m]\u001b[0m\u001b[1;33m)\u001b[0m\u001b[1;33m\u001b[0m\u001b[1;33m\u001b[0m\u001b[0m\n",
      "\u001b[1;32mC:\\Program Files\\ArcGIS\\Pro\\Resources\\ArcPy\\arcpy\\geoprocessing\\_base.py\u001b[0m in \u001b[0;36mlistFields\u001b[1;34m(self, *args)\u001b[0m\n\u001b[0;32m    360\u001b[0m         \u001b[1;32mfrom\u001b[0m \u001b[0marcpy\u001b[0m\u001b[1;33m.\u001b[0m\u001b[0marcobjects\u001b[0m\u001b[1;33m.\u001b[0m\u001b[0marcobjectconversion\u001b[0m \u001b[1;32mimport\u001b[0m \u001b[0mconvertArcObjectToPythonObject\u001b[0m\u001b[1;33m\u001b[0m\u001b[1;33m\u001b[0m\u001b[0m\n\u001b[0;32m    361\u001b[0m         return convertArcObjectToPythonObject(\n\u001b[1;32m--> 362\u001b[1;33m                     self._gp.ListFields(*gp_fixargs(args, True)))\n\u001b[0m\u001b[0;32m    363\u001b[0m     \u001b[1;32mdef\u001b[0m \u001b[0mlistIndexes\u001b[0m\u001b[1;33m(\u001b[0m\u001b[0mself\u001b[0m\u001b[1;33m,\u001b[0m \u001b[1;33m*\u001b[0m\u001b[0margs\u001b[0m\u001b[1;33m)\u001b[0m\u001b[1;33m:\u001b[0m\u001b[1;33m\u001b[0m\u001b[1;33m\u001b[0m\u001b[0m\n\u001b[0;32m    364\u001b[0m         \u001b[1;34m\"\"\"GP function ListIndexes\"\"\"\u001b[0m\u001b[1;33m\u001b[0m\u001b[1;33m\u001b[0m\u001b[0m\n",
      "\u001b[1;31mRuntimeError\u001b[0m: ERROR 999999: Something unexpected caused the tool to fail. Contact Esri Technical Support (http://esriurl.com/support) to Report a Bug, and refer to the error help for potential solutions or workarounds."
     ]
    }
   ],
   "source": [
    "import arcpy\n",
    "\n",
    "# -------------------------------------------------------------------\n",
    "# User-defined parameters\n",
    "# -------------------------------------------------------------------\n",
    "parcels_fc = r\"C:\\Users\\Sea Grant\\Documents\\GitHub\\WW_Overlay_2024\\Data\\TaxPlat_NoConservation\"\n",
    "sewer_mains_fc = r\"C:\\Users\\Sea Grant\\Documents\\GitHub\\WW_Overlay_2024\\Data\\SewerMains\\OahuSewerMains\\Sewer_Main.shp\"\n",
    "output_erase_fc = r\"C:\\Users\\Sea Grant\\Documents\\GitHub\\WW_Overlay_2024\\Data\\Outputs\\Parcels_No_Overlap.shp\"\n",
    "\n",
    "# Field to store area percentages\n",
    "original_area_field = \"Orig_Area\"\n",
    "remaining_area_field = \"Remain_Area\"\n",
    "percent_remaining_field = \"Pct_Remain\"\n",
    "\n",
    "# -------------------------------------------------------------------\n",
    "# 1. Calculate Original Parcel Area\n",
    "# -------------------------------------------------------------------\n",
    "print(\"Calculating original parcel areas...\")\n",
    "if original_area_field not in [f.name for f in arcpy.ListFields(parcels_fc)]:\n",
    "    arcpy.management.AddField(parcels_fc, original_area_field, \"DOUBLE\")\n",
    "    arcpy.management.CalculateGeometryAttributes(\n",
    "        in_features=parcels_fc,\n",
    "        geometry_property=[[original_area_field, \"AREA_GEODESIC\"]],\n",
    "        area_unit=\"SQUARE_METERS\"\n",
    "    )\n",
    "\n",
    "# -------------------------------------------------------------------\n",
    "# 2. Perform Erase to Remove Overlapping Areas\n",
    "# -------------------------------------------------------------------\n",
    "print(\"Removing overlapping areas...\")\n",
    "arcpy.analysis.Erase(\n",
    "    in_features=parcels_fc,\n",
    "    erase_features=sewer_mains_fc,\n",
    "    out_feature_class=output_erase_fc\n",
    ")\n",
    "\n",
    "# -------------------------------------------------------------------\n",
    "# 3. Calculate Remaining Parcel Area After Erase\n",
    "# -------------------------------------------------------------------\n",
    "print(\"Calculating remaining parcel areas...\")\n",
    "if remaining_area_field not in [f.name for f in arcpy.ListFields(output_erase_fc)]:\n",
    "    arcpy.management.AddField(output_erase_fc, remaining_area_field, \"DOUBLE\")\n",
    "    arcpy.management.CalculateGeometryAttributes(\n",
    "        in_features=output_erase_fc,\n",
    "        geometry_property=[[remaining_area_field, \"AREA_GEODESIC\"]],\n",
    "        area_unit=\"SQUARE_METERS\"\n",
    "    )\n",
    "\n",
    "# -------------------------------------------------------------------\n",
    "# 4. Add Field for Percentage of Area Left\n",
    "# -------------------------------------------------------------------\n",
    "print(\"Calculating percentage of area remaining...\")\n",
    "if percent_remaining_field not in [f.name for f in arcpy.ListFields(output_erase_fc)]:\n",
    "    arcpy.management.AddField(output_erase_fc, percent_remaining_field, \"DOUBLE\")\n",
    "\n",
    "# -------------------------------------------------------------------\n",
    "# 5. Compute Percentage of Remaining Area\n",
    "# -------------------------------------------------------------------\n",
    "parcel_dict = {}\n",
    "with arcpy.da.SearchCursor(parcels_fc, [\"OBJECTID\", original_area_field]) as orig_cursor:\n",
    "    for row in orig_cursor:\n",
    "        parcel_dict[row[0]] = row[1]  # Store original area by OBJECTID\n",
    "\n",
    "with arcpy.da.UpdateCursor(output_erase_fc, [\"OBJECTID\", remaining_area_field, percent_remaining_field]) as update_cursor:\n",
    "    for row in update_cursor:\n",
    "        object_id = row[0]\n",
    "        original_area = parcel_dict.get(object_id, 0.0)\n",
    "        remaining_area = row[1]\n",
    "\n",
    "        if original_area > 0:\n",
    "            percent_remaining = (remaining_area / original_area) * 100\n",
    "        else:\n",
    "            percent_remaining = 0.0\n",
    "\n",
    "        row[2] = percent_remaining\n",
    "        update_cursor.updateRow(row)\n",
    "\n",
    "print(\"Percentage of remaining area calculation complete.\")\n"
   ]
  },
  {
   "cell_type": "code",
   "execution_count": null,
   "id": "a5b70763",
   "metadata": {},
   "outputs": [],
   "source": []
  },
  {
   "cell_type": "code",
   "execution_count": null,
   "id": "1defe44e",
   "metadata": {},
   "outputs": [],
   "source": []
  }
 ],
 "metadata": {
  "kernelspec": {
   "display_name": "Python 3 (ipykernel)",
   "language": "python",
   "name": "python3"
  },
  "language_info": {
   "codemirror_mode": {
    "name": "ipython",
    "version": 3
   },
   "file_extension": ".py",
   "mimetype": "text/x-python",
   "name": "python",
   "nbconvert_exporter": "python",
   "pygments_lexer": "ipython3",
   "version": "3.9.18"
  }
 },
 "nbformat": 4,
 "nbformat_minor": 5
}
