{
 "cells": [
  {
   "cell_type": "code",
   "execution_count": 1,
   "id": "59d6d71f",
   "metadata": {},
   "outputs": [
    {
     "name": "stdout",
     "output_type": "stream",
     "text": [
      "Field update process complete. Final output saved at C:\\Users\\Sea Grant\\Documents\\GitHub\\WW_Overlay_2024\\Data\\Outputs\\Updated_TaxPlat.shp\n"
     ]
    }
   ],
   "source": [
    "import arcpy\n",
    "\n",
    "# Allow overwriting of outputs\n",
    "arcpy.env.overwriteOutput = True\n",
    "\n",
    "# Paths to input layers\n",
    "input_layer = r\"C:\\Users\\Sea Grant\\Documents\\GitHub\\WW_Overlay_2024\\Data\\Outputs\\TaxPlat_No_P1\\TaxPlat_No_P1.shp\"\n",
    "osds_layer = r\"C:\\Users\\Sea Grant\\Documents\\GitHub\\WW_Overlay_2024\\Data\\OSDS\\OahuOSDS\\On-site_Sewage_Disposal_Systems_-_Oahu.shp\"\n",
    "footprint_layer = r\"C:\\Users\\Sea Grant\\Documents\\GitHub\\WW_Overlay_2024\\Data\\Building_Footprint_Centerpoints\\Building_Footprint_Centerpoints\\Building_Footprint_Centerpoints.shp\"\n",
    "mains_layer = r\"C:\\Users\\Sea Grant\\Documents\\GitHub\\WW_Overlay_2024\\Data\\SewerMains\\OahuSewerMains\\Sewer_Main.shp\"\n",
    "\n",
    "# Output paths\n",
    "final_output = r\"C:\\Users\\Sea Grant\\Documents\\GitHub\\WW_Overlay_2024\\Data\\Outputs\\Updated_TaxPlat.shp\"\n",
    "temp_output = \"in_memory\\\\temp_output\"\n",
    "\n",
    "# Dictionary of intersect layers and corresponding field names\n",
    "intersect_layers = {\n",
    "    \"OSDS\": osds_layer,\n",
    "    \"Footprint\": footprint_layer,\n",
    "    \"Mains\": mains_layer\n",
    "}\n",
    "\n",
    "# Create a copy of the input layer to avoid modifying the original\n",
    "arcpy.management.CopyFeatures(input_layer, temp_output)\n",
    "\n",
    "# Add fields in advance to avoid overwriting in the loop\n",
    "for field in intersect_layers:\n",
    "    if not arcpy.ListFields(temp_output, field):\n",
    "        arcpy.management.AddField(temp_output, field, \"TEXT\")\n",
    "\n",
    "# Perform spatial joins independently and update the corresponding fields\n",
    "for field, layer_path in intersect_layers.items():\n",
    "    join_output = f\"in_memory\\\\join_{field}\"\n",
    "\n",
    "    # Delete the join_output if it exists\n",
    "    if arcpy.Exists(join_output):\n",
    "        arcpy.management.Delete(join_output)\n",
    "\n",
    "    # Perform spatial join\n",
    "    arcpy.analysis.SpatialJoin(\n",
    "        target_features=temp_output,\n",
    "        join_features=layer_path,\n",
    "        out_feature_class=join_output,\n",
    "        join_type=\"KEEP_ALL\",\n",
    "        match_option=\"INTERSECT\"\n",
    "    )\n",
    "\n",
    "    # Find the correct join field\n",
    "    join_fields = [f.name for f in arcpy.ListFields(join_output)]\n",
    "    join_fid_field = next((f for f in join_fields if \"_FID\" in f or f == \"Join_Count\"), None)\n",
    "\n",
    "    if not join_fid_field:\n",
    "        raise RuntimeError(f\"Could not find the join field for {field} in {join_output}\")\n",
    "\n",
    "    # Update the field in the main output\n",
    "    with arcpy.da.UpdateCursor(temp_output, [\"OBJECTID\", field]) as cursor1, arcpy.da.SearchCursor(join_output, [\"OBJECTID\", join_fid_field]) as cursor2:\n",
    "        join_results = {row[0]: row[1] for row in cursor2}\n",
    "\n",
    "        for row in cursor1:\n",
    "            row[1] = \"yes\" if join_results.get(row[0], 0) != 0 else \"no\"\n",
    "            cursor1.updateRow(row)\n",
    "\n",
    "# Save the final output\n",
    "arcpy.management.CopyFeatures(temp_output, final_output)\n",
    "print(f\"Field update process complete. Final output saved at {final_output}\")\n"
   ]
  },
  {
   "cell_type": "code",
   "execution_count": null,
   "id": "6f253c5b",
   "metadata": {},
   "outputs": [],
   "source": []
  }
 ],
 "metadata": {
  "kernelspec": {
   "display_name": "Python 3 (ipykernel)",
   "language": "python",
   "name": "python3"
  },
  "language_info": {
   "codemirror_mode": {
    "name": "ipython",
    "version": 3
   },
   "file_extension": ".py",
   "mimetype": "text/x-python",
   "name": "python",
   "nbconvert_exporter": "python",
   "pygments_lexer": "ipython3",
   "version": "3.9.18"
  }
 },
 "nbformat": 4,
 "nbformat_minor": 5
}
