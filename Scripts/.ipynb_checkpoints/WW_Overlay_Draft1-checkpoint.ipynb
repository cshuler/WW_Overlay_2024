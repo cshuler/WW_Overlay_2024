{
 "cells": [
  {
   "cell_type": "markdown",
   "id": "3dc145b3",
   "metadata": {},
   "source": [
    "# WW Overlay notebook "
   ]
  },
  {
   "cell_type": "code",
   "execution_count": 36,
   "id": "cc5a3621",
   "metadata": {},
   "outputs": [],
   "source": [
    "import os \n",
    "import pandas as pd\n",
    "import numpy as np\n",
    "import arcpy\n",
    "\n",
    "# Enable overwriting of existing files\n",
    "arcpy.env.overwriteOutput = True"
   ]
  },
  {
   "cell_type": "markdown",
   "id": "847a1476-93f5-42ac-bb51-7e46052d25cb",
   "metadata": {},
   "source": [
    "# Functions \n",
    "- dont worry about this until you find yourself doing a bunch of copy-pasting and doing things repeatedly\n",
    "- "
   ]
  },
  {
   "cell_type": "code",
   "execution_count": null,
   "id": "6647f654-aa5e-46f1-8844-05392c712a0c",
   "metadata": {},
   "outputs": [],
   "source": [
    "# Any functions for things done repeatedly \n",
    "\n"
   ]
  },
  {
   "cell_type": "markdown",
   "id": "d36b9673-cf81-4958-874c-6920892dbf9d",
   "metadata": {},
   "source": [
    "#### Make sure all data is projected into WGS84 Geographic Coordinate system, NO Projection "
   ]
  },
  {
   "cell_type": "markdown",
   "id": "7b21b6a3-7fc1-4fd9-a216-9f8908acbc93",
   "metadata": {},
   "source": [
    "### Identify the Statewide Parcels file \n"
   ]
  },
  {
   "cell_type": "code",
   "execution_count": null,
   "id": "a3f877fd-d006-4a6c-ab6d-b9cde863587c",
   "metadata": {},
   "outputs": [],
   "source": [
    "# Statewide_parcels   # this variable is the path to the parcels Statewide_parcels.shp \n",
    "\n"
   ]
  },
  {
   "cell_type": "markdown",
   "id": "af2c5b0f-fd6a-4973-880d-7d95c6d0b1c2",
   "metadata": {},
   "source": [
    "### Remove development exclusion areas"
   ]
  },
  {
   "cell_type": "code",
   "execution_count": 1,
   "id": "abe95f0f-cb63-4bf9-a8e9-16ff2feca196",
   "metadata": {},
   "outputs": [],
   "source": [
    "#Cutout conservation and preservation zones\n",
    "\n",
    "\n",
    "\n",
    "# Developable_parcels.shp     # this is the path to the modified parcels file.shp "
   ]
  },
  {
   "cell_type": "markdown",
   "id": "4562bede-1771-41a9-84db-a8a94dcca203",
   "metadata": {},
   "source": [
    "##### Create the master sewer-line file "
   ]
  },
  {
   "cell_type": "code",
   "execution_count": null,
   "id": "26983549-b585-4cba-a8a7-88d166f8dc9f",
   "metadata": {},
   "outputs": [],
   "source": [
    " # Merge all laterals and Mains from COs  into master sewer-line file \n",
    "\n",
    "\n",
    "\n",
    "\n",
    "# Output single shapefile - of Statewide_sewer_lines.shp"
   ]
  },
  {
   "cell_type": "markdown",
   "id": "e7e8b375-1896-4b5b-bb1b-49b41ca1c66d",
   "metadata": {},
   "source": [
    "### Identify already sewered areas (by % sewered) "
   ]
  },
  {
   "cell_type": "code",
   "execution_count": null,
   "id": "134fddb8-7b55-4ab6-933c-5528df677db0",
   "metadata": {},
   "outputs": [],
   "source": [
    "# Input Statewide_sewer_lines.shp  Buffer it by 2m or whatever   Output Statewide_sewer_lines_2mBuff.shp\n",
    "\n",
    "\n",
    "# Intersect parcels that touch \"sewer buffer file\"  Statewide_sewer_lines_2mBuff.shpand    Developable_parcels.shp\n",
    "\n",
    "\n",
    "# Output single shapefile - of Sewered_Parcels.shp    #  Yields parcel-file that each is either sewered or not  "
   ]
  },
  {
   "cell_type": "code",
   "execution_count": null,
   "id": "d0dac70f-7b43-47da-860c-9492f7be59de",
   "metadata": {},
   "outputs": [],
   "source": []
  },
  {
   "cell_type": "markdown",
   "id": "ed3aa3f1-f26b-4c5e-9f20-d38c50a02f91",
   "metadata": {},
   "source": [
    "### Things we dont have yet but can start experimenting "
   ]
  },
  {
   "cell_type": "markdown",
   "id": "1470db05-b8bd-4fdf-96b3-ff88ee5029f8",
   "metadata": {},
   "source": [
    "# Project areas  \n",
    "\n"
   ]
  },
  {
   "cell_type": "markdown",
   "id": "c46744ea-e44c-4441-8891-00cc721590bb",
   "metadata": {},
   "source": [
    "## Planned/proposed projects\n",
    "Input files need to be polygons with one attribute catergory: \n",
    "- Committed \n",
    "- Planned\n",
    "- Feasible"
   ]
  },
  {
   "cell_type": "code",
   "execution_count": null,
   "id": "15aa70af-b9de-4072-a0bc-05df93bada96",
   "metadata": {},
   "outputs": [],
   "source": [
    "# Merging clean polygon input files for all the project areas into    Project_Areas.shp\n",
    "\n",
    "#  Intersect parcels with the project area polygons "
   ]
  },
  {
   "cell_type": "code",
   "execution_count": null,
   "id": "18eef841-6285-454d-af21-d254a4824adb",
   "metadata": {},
   "outputs": [],
   "source": []
  },
  {
   "cell_type": "markdown",
   "id": "fe270886-1479-4927-ba66-cec9d4c2d785",
   "metadata": {},
   "source": [
    "## Infeasible areas\n",
    "Input files need to be polygons with one attribute catergory: \n",
    "- technically challenging \n",
    "- cost prohibitive\n",
    "- "
   ]
  },
  {
   "cell_type": "code",
   "execution_count": null,
   "id": "d7f0baa9-5a0f-4eb0-8296-6894cec1f5b2",
   "metadata": {},
   "outputs": [],
   "source": [
    "# Merging clean polygon input files for all the Infeasible areas into    Infeasible_Areas.shp\n",
    "\n",
    "#  Intersect parcels with the Infeasible area polygons "
   ]
  },
  {
   "cell_type": "code",
   "execution_count": null,
   "id": "2f865cad-0f3f-457d-a040-5c5cb7cd9e36",
   "metadata": {},
   "outputs": [],
   "source": []
  },
  {
   "cell_type": "code",
   "execution_count": null,
   "id": "67bd7ba9-1e57-4bef-bee0-ce43f02eac79",
   "metadata": {},
   "outputs": [],
   "source": []
  },
  {
   "cell_type": "code",
   "execution_count": null,
   "id": "1f87e630-d082-4a28-884e-5ae0dc60301f",
   "metadata": {},
   "outputs": [],
   "source": []
  },
  {
   "cell_type": "code",
   "execution_count": null,
   "id": "b1bcbca8-dc30-4459-a63d-a8ec641917e5",
   "metadata": {},
   "outputs": [],
   "source": []
  },
  {
   "cell_type": "markdown",
   "id": "541955e6-08b4-4f2a-ac5a-da4e3bcd4f8c",
   "metadata": {},
   "source": [
    "##  Tax-plat based calculations \n",
    "\n",
    "\n",
    ") Dissolve ALL parcels into Tax Plats (n = 6600) \n",
    "\n",
    ") Dissolve into tax-plats to create \"%-sewered column\" \n",
    "\n",
    ") Dissolve into tax-plats to create \"% - Planned/proposed column\"\n",
    "\n",
    ") Dissolve into tax-plats to create \"% - Infeasible column\""
   ]
  },
  {
   "cell_type": "code",
   "execution_count": null,
   "id": "f2d2017e-0cf9-432e-a30f-14a2e0843e82",
   "metadata": {},
   "outputs": [],
   "source": []
  },
  {
   "cell_type": "code",
   "execution_count": null,
   "id": "27f12df2-35f8-4627-ab8e-865d39c280fd",
   "metadata": {},
   "outputs": [],
   "source": []
  },
  {
   "cell_type": "markdown",
   "id": "25df04dd-1611-41db-8f8a-20b2add44ce0",
   "metadata": {},
   "source": [
    "NOTES: \n",
    "\n",
    "--------------------------------------------------------\n",
    "Parcel- based calculations \n",
    "\n",
    "1 ) Start Statewide parcels\n",
    "\n",
    " \n",
    "2) Remove development exclusion areas: \n",
    "  - Cutout conservation and preservation zones \n",
    "  - \n",
    "\n",
    "3) Identify already sewered areas (by % sewered) \n",
    "\n",
    "  - Merge all laterals and Mains into master sewer-line file \n",
    "  - Buffer that by 2m \"sewer buffer file\" \n",
    "  - Intersect parcels that touch \"sewer buffer file\" \n",
    "\n",
    " Yields parcel-file that each is either sewered or not  \n",
    "\n",
    "\n",
    "Project areas  \n",
    "\n",
    "4) Planned/proposed projects (all polygon data) \n",
    "  - Intersect parcels with the project area polygons \n",
    "  - Populate Planned/proposed column with categorical data (these are our \"bins\" of Planned/proposed projects)\n",
    " \n",
    "5) Infeasible areas:\n",
    "  -  Intersect parcels with the Infeasible area polygons  \n",
    "  -  Populate Intersect column with categorical data (technically challenging, cost prohibitive, etc...) \n",
    "\n",
    "\n",
    "Add in any other columns we want here \n",
    "\n",
    "--------------------------------------------------------\n",
    "Tax-plat based calculations \n",
    "\n",
    "\n",
    ") Dissolve ALL parcels into Tax Plats (n = 6600) \n",
    "\n",
    ") Dissolve into tax-plats to create \"%-sewered column\" \n",
    "\n",
    ") Dissolve into tax-plats to create \"% - Planned/proposed column\"\n",
    "\n",
    ") Dissolve into tax-plats to create \"% - Infeasible column\"\n",
    "\n"
   ]
  },
  {
   "cell_type": "code",
   "execution_count": null,
   "id": "ff21a6f7-6f94-4ece-982b-f5ce6172479c",
   "metadata": {},
   "outputs": [],
   "source": []
  },
  {
   "cell_type": "code",
   "execution_count": null,
   "id": "ad9f05d8-8a4f-4e57-b298-19a87024c3b1",
   "metadata": {},
   "outputs": [],
   "source": []
  },
  {
   "cell_type": "code",
   "execution_count": null,
   "id": "67a45707-f6d2-4bac-b20c-99c3e0db96ce",
   "metadata": {},
   "outputs": [],
   "source": []
  },
  {
   "cell_type": "code",
   "execution_count": null,
   "id": "4c6cc562-0652-4894-bde8-0cb4feba2e66",
   "metadata": {},
   "outputs": [],
   "source": []
  },
  {
   "cell_type": "code",
   "execution_count": null,
   "id": "613d9d50-d389-4314-af0b-f6da0d7b0203",
   "metadata": {},
   "outputs": [],
   "source": []
  },
  {
   "cell_type": "code",
   "execution_count": null,
   "id": "5e576a61-f130-4134-a86d-7d192b21481a",
   "metadata": {},
   "outputs": [],
   "source": []
  },
  {
   "cell_type": "markdown",
   "id": "64fb995b",
   "metadata": {},
   "source": [
    "## Modifying the parcel files to become tax Plat zones \n",
    "\n",
    "\n",
    "Step by step directions\n",
    "#### To make tax plats\n",
    "- Add field to the shapefile of \"tax_plat_key\"\n",
    "- Calculate field tool  to take the 2nd through the 6th  using str(!TMK!)[1:6] \n",
    "- Do a pairwise dissolve to dissolve all features with identical tax_plat_keys "
   ]
  },
  {
   "cell_type": "code",
   "execution_count": 37,
   "id": "1ff635d5",
   "metadata": {},
   "outputs": [
    {
     "data": {
      "text/html": [
       "<div class='gpresult'><h2>Messages</h2><div id='messages'>Start Time: Wednesday, November 27, 2024 8:58:48 AM<br>Succeeded at Wednesday, November 27, 2024 8:58:51 AM (Elapsed Time: 3.36 seconds)<br></div><div id = 'default' /></div></div>"
      ],
      "text/plain": [
       "<Result 'temp\\\\maucotmk_copy.shp'>"
      ]
     },
     "execution_count": 37,
     "metadata": {},
     "output_type": "execute_result"
    }
   ],
   "source": [
    "\n",
    "# Copy the pristine data shapefile so that I can add fields and mess with it\n",
    "input_shapefile = r\"C:\\Users\\Sea Grant\\Desktop\\WW_Overlay\\KauaiTMK\\KauaiTMK_w_Plat\" # The data file to copy\n",
    "output_shapefile = os.path.join(\"temp\", 'maucotmk_copy.shp')\n",
    "arcpy.CopyFeatures_management(input_shapefile, output_shapefile)\n",
    "\n",
    "# Adding and calulating the tax plat key field\n",
    "shp_path = os.path.join(\"temp\", 'maucotmk_copy.shp')   # specify which shapefile to mess with\n",
    "\n",
    "arcpy.management.AddField(shp_path, \"tax_plat\", \"TEXT\", \"\", \"\", \"40\")  # add the new tax plat field \n",
    "arcpy.management.CalculateField(shp_path, \"tax_plat\", 'str(!TMK!)[0:6]', \"PYTHON3\")  # Calculates the new plat key \n",
    "\n",
    "# pairwise dissolve to dissolve all features with identical tax_plat_keys\n",
    "\n"
   ]
  },
  {
   "cell_type": "code",
   "execution_count": 35,
   "id": "ec0e0688",
   "metadata": {},
   "outputs": [],
   "source": [
    "# pairwise dissolve to dissolve all features with identical tax_plat_keys\n",
    "\n",
    "\n",
    "\n",
    "# Experiment down here"
   ]
  },
  {
   "cell_type": "code",
   "execution_count": null,
   "id": "711ba151",
   "metadata": {},
   "outputs": [],
   "source": []
  },
  {
   "cell_type": "code",
   "execution_count": null,
   "id": "de875064",
   "metadata": {},
   "outputs": [],
   "source": []
  },
  {
   "cell_type": "code",
   "execution_count": null,
   "id": "e8786581",
   "metadata": {},
   "outputs": [],
   "source": []
  },
  {
   "cell_type": "code",
   "execution_count": null,
   "id": "3f5d6439",
   "metadata": {},
   "outputs": [],
   "source": []
  },
  {
   "cell_type": "code",
   "execution_count": null,
   "id": "032de776",
   "metadata": {},
   "outputs": [],
   "source": []
  },
  {
   "cell_type": "code",
   "execution_count": null,
   "id": "bc4d3911",
   "metadata": {},
   "outputs": [],
   "source": []
  },
  {
   "cell_type": "code",
   "execution_count": null,
   "id": "c8211597",
   "metadata": {},
   "outputs": [],
   "source": []
  },
  {
   "cell_type": "markdown",
   "id": "ea72aec7",
   "metadata": {},
   "source": [
    "# Tools "
   ]
  },
  {
   "cell_type": "code",
   "execution_count": 25,
   "id": "5cb6dc8e",
   "metadata": {},
   "outputs": [
    {
     "data": {
      "text/html": [
       "<div>\n",
       "<style scoped>\n",
       "    .dataframe tbody tr th:only-of-type {\n",
       "        vertical-align: middle;\n",
       "    }\n",
       "\n",
       "    .dataframe tbody tr th {\n",
       "        vertical-align: top;\n",
       "    }\n",
       "\n",
       "    .dataframe thead th {\n",
       "        text-align: right;\n",
       "    }\n",
       "</style>\n",
       "<table border=\"1\" class=\"dataframe\">\n",
       "  <thead>\n",
       "    <tr style=\"text-align: right;\">\n",
       "      <th></th>\n",
       "      <th>FID</th>\n",
       "      <th>TMK</th>\n",
       "      <th>TMK_txt</th>\n",
       "      <th>cty_tmk</th>\n",
       "      <th>LandValue</th>\n",
       "      <th>LandExempt</th>\n",
       "      <th>BldgValue</th>\n",
       "      <th>BldgExempt</th>\n",
       "      <th>PittCode</th>\n",
       "      <th>Homeowner</th>\n",
       "      <th>NHoodCode</th>\n",
       "      <th>TaxAcres</th>\n",
       "      <th>GISAcres</th>\n",
       "      <th>qpub_link</th>\n",
       "      <th>Shape_Leng</th>\n",
       "      <th>Shape_Area</th>\n",
       "      <th>tax_plat</th>\n",
       "    </tr>\n",
       "  </thead>\n",
       "  <tbody>\n",
       "    <tr>\n",
       "      <th>0</th>\n",
       "      <td>0</td>\n",
       "      <td>211001001</td>\n",
       "      <td>211001001</td>\n",
       "      <td>11001001</td>\n",
       "      <td>200</td>\n",
       "      <td>200</td>\n",
       "      <td>0</td>\n",
       "      <td>0</td>\n",
       "      <td>600</td>\n",
       "      <td>N</td>\n",
       "      <td>1423-5</td>\n",
       "      <td>15.3800</td>\n",
       "      <td>24.718663</td>\n",
       "      <td>https://qpublic.schneidercorp.com/Application....</td>\n",
       "      <td>2937.632735</td>\n",
       "      <td>1.000329e+05</td>\n",
       "      <td>211001</td>\n",
       "    </tr>\n",
       "    <tr>\n",
       "      <th>1</th>\n",
       "      <td>1</td>\n",
       "      <td>211001002</td>\n",
       "      <td>211001002</td>\n",
       "      <td>11001002</td>\n",
       "      <td>9400</td>\n",
       "      <td>9400</td>\n",
       "      <td>0</td>\n",
       "      <td>0</td>\n",
       "      <td>600</td>\n",
       "      <td>N</td>\n",
       "      <td>1122-6</td>\n",
       "      <td>0.6700</td>\n",
       "      <td>1.412801</td>\n",
       "      <td>https://qpublic.schneidercorp.com/Application....</td>\n",
       "      <td>338.916826</td>\n",
       "      <td>5.717401e+03</td>\n",
       "      <td>211001</td>\n",
       "    </tr>\n",
       "    <tr>\n",
       "      <th>2</th>\n",
       "      <td>2</td>\n",
       "      <td>211001003</td>\n",
       "      <td>211001003</td>\n",
       "      <td>11001003</td>\n",
       "      <td>124900</td>\n",
       "      <td>124900</td>\n",
       "      <td>0</td>\n",
       "      <td>0</td>\n",
       "      <td>600</td>\n",
       "      <td>N</td>\n",
       "      <td>1122-6</td>\n",
       "      <td>8.9200</td>\n",
       "      <td>8.412005</td>\n",
       "      <td>https://qpublic.schneidercorp.com/Application....</td>\n",
       "      <td>1560.773608</td>\n",
       "      <td>3.404218e+04</td>\n",
       "      <td>211001</td>\n",
       "    </tr>\n",
       "    <tr>\n",
       "      <th>3</th>\n",
       "      <td>3</td>\n",
       "      <td>211001004</td>\n",
       "      <td>211001004</td>\n",
       "      <td>11001004</td>\n",
       "      <td>35000</td>\n",
       "      <td>0</td>\n",
       "      <td>0</td>\n",
       "      <td>0</td>\n",
       "      <td>600</td>\n",
       "      <td>N</td>\n",
       "      <td>1122-6</td>\n",
       "      <td>2.5000</td>\n",
       "      <td>2.499308</td>\n",
       "      <td>https://qpublic.schneidercorp.com/Application....</td>\n",
       "      <td>420.385964</td>\n",
       "      <td>1.011434e+04</td>\n",
       "      <td>211001</td>\n",
       "    </tr>\n",
       "    <tr>\n",
       "      <th>4</th>\n",
       "      <td>4</td>\n",
       "      <td>211001005</td>\n",
       "      <td>211001005</td>\n",
       "      <td>11001005</td>\n",
       "      <td>16500</td>\n",
       "      <td>0</td>\n",
       "      <td>0</td>\n",
       "      <td>0</td>\n",
       "      <td>600</td>\n",
       "      <td>N</td>\n",
       "      <td>1122-6</td>\n",
       "      <td>1.1800</td>\n",
       "      <td>1.174124</td>\n",
       "      <td>https://qpublic.schneidercorp.com/Application....</td>\n",
       "      <td>291.173935</td>\n",
       "      <td>4.751513e+03</td>\n",
       "      <td>211001</td>\n",
       "    </tr>\n",
       "    <tr>\n",
       "      <th>...</th>\n",
       "      <td>...</td>\n",
       "      <td>...</td>\n",
       "      <td>...</td>\n",
       "      <td>...</td>\n",
       "      <td>...</td>\n",
       "      <td>...</td>\n",
       "      <td>...</td>\n",
       "      <td>...</td>\n",
       "      <td>...</td>\n",
       "      <td>...</td>\n",
       "      <td>...</td>\n",
       "      <td>...</td>\n",
       "      <td>...</td>\n",
       "      <td>...</td>\n",
       "      <td>...</td>\n",
       "      <td>...</td>\n",
       "      <td>...</td>\n",
       "    </tr>\n",
       "    <tr>\n",
       "      <th>51876</th>\n",
       "      <td>51876</td>\n",
       "      <td>261001002</td>\n",
       "      <td>261001002</td>\n",
       "      <td>61001002</td>\n",
       "      <td>2164100</td>\n",
       "      <td>2164100</td>\n",
       "      <td>0</td>\n",
       "      <td>0</td>\n",
       "      <td>999</td>\n",
       "      <td>N</td>\n",
       "      <td>6154-5</td>\n",
       "      <td>7213.7750</td>\n",
       "      <td>7113.443641</td>\n",
       "      <td>https://qpublic.schneidercorp.com/Application....</td>\n",
       "      <td>47307.328495</td>\n",
       "      <td>2.878709e+07</td>\n",
       "      <td>261001</td>\n",
       "    </tr>\n",
       "    <tr>\n",
       "      <th>51877</th>\n",
       "      <td>51877</td>\n",
       "      <td>261001003</td>\n",
       "      <td>261001003</td>\n",
       "      <td>61001003</td>\n",
       "      <td>171600</td>\n",
       "      <td>171600</td>\n",
       "      <td>0</td>\n",
       "      <td>0</td>\n",
       "      <td>600</td>\n",
       "      <td>N</td>\n",
       "      <td>5953-6</td>\n",
       "      <td>22.8800</td>\n",
       "      <td>22.643961</td>\n",
       "      <td>https://qpublic.schneidercorp.com/Application....</td>\n",
       "      <td>1242.587340</td>\n",
       "      <td>9.163686e+04</td>\n",
       "      <td>261001</td>\n",
       "    </tr>\n",
       "    <tr>\n",
       "      <th>51878</th>\n",
       "      <td>51878</td>\n",
       "      <td>261001004</td>\n",
       "      <td>261001004</td>\n",
       "      <td>61001004</td>\n",
       "      <td>750000</td>\n",
       "      <td>750000</td>\n",
       "      <td>0</td>\n",
       "      <td>0</td>\n",
       "      <td>600</td>\n",
       "      <td>N</td>\n",
       "      <td>5953-6</td>\n",
       "      <td>50.0000</td>\n",
       "      <td>57.755559</td>\n",
       "      <td>https://qpublic.schneidercorp.com/Application....</td>\n",
       "      <td>2469.117529</td>\n",
       "      <td>2.337285e+05</td>\n",
       "      <td>261001</td>\n",
       "    </tr>\n",
       "    <tr>\n",
       "      <th>51879</th>\n",
       "      <td>51879</td>\n",
       "      <td>261001005</td>\n",
       "      <td>261001005</td>\n",
       "      <td>61001005</td>\n",
       "      <td>633000</td>\n",
       "      <td>633000</td>\n",
       "      <td>0</td>\n",
       "      <td>0</td>\n",
       "      <td>600</td>\n",
       "      <td>N</td>\n",
       "      <td>5953-6</td>\n",
       "      <td>42.2020</td>\n",
       "      <td>42.497785</td>\n",
       "      <td>https://qpublic.schneidercorp.com/Application....</td>\n",
       "      <td>2552.565023</td>\n",
       "      <td>1.719824e+05</td>\n",
       "      <td>261001</td>\n",
       "    </tr>\n",
       "    <tr>\n",
       "      <th>51880</th>\n",
       "      <td>51880</td>\n",
       "      <td>261001006</td>\n",
       "      <td>261001006</td>\n",
       "      <td>61001006</td>\n",
       "      <td>100</td>\n",
       "      <td>0</td>\n",
       "      <td>0</td>\n",
       "      <td>0</td>\n",
       "      <td>600</td>\n",
       "      <td>N</td>\n",
       "      <td>5953-6</td>\n",
       "      <td>0.0226</td>\n",
       "      <td>0.144956</td>\n",
       "      <td>https://qpublic.schneidercorp.com/Application....</td>\n",
       "      <td>97.427171</td>\n",
       "      <td>5.866158e+02</td>\n",
       "      <td>261001</td>\n",
       "    </tr>\n",
       "  </tbody>\n",
       "</table>\n",
       "<p>51881 rows × 17 columns</p>\n",
       "</div>"
      ],
      "text/plain": [
       "         FID        TMK    TMK_txt   cty_tmk  LandValue  LandExempt  \\\n",
       "0          0  211001001  211001001  11001001        200         200   \n",
       "1          1  211001002  211001002  11001002       9400        9400   \n",
       "2          2  211001003  211001003  11001003     124900      124900   \n",
       "3          3  211001004  211001004  11001004      35000           0   \n",
       "4          4  211001005  211001005  11001005      16500           0   \n",
       "...      ...        ...        ...       ...        ...         ...   \n",
       "51876  51876  261001002  261001002  61001002    2164100     2164100   \n",
       "51877  51877  261001003  261001003  61001003     171600      171600   \n",
       "51878  51878  261001004  261001004  61001004     750000      750000   \n",
       "51879  51879  261001005  261001005  61001005     633000      633000   \n",
       "51880  51880  261001006  261001006  61001006        100           0   \n",
       "\n",
       "       BldgValue  BldgExempt  PittCode Homeowner NHoodCode   TaxAcres  \\\n",
       "0              0           0       600         N    1423-5    15.3800   \n",
       "1              0           0       600         N    1122-6     0.6700   \n",
       "2              0           0       600         N    1122-6     8.9200   \n",
       "3              0           0       600         N    1122-6     2.5000   \n",
       "4              0           0       600         N    1122-6     1.1800   \n",
       "...          ...         ...       ...       ...       ...        ...   \n",
       "51876          0           0       999         N    6154-5  7213.7750   \n",
       "51877          0           0       600         N    5953-6    22.8800   \n",
       "51878          0           0       600         N    5953-6    50.0000   \n",
       "51879          0           0       600         N    5953-6    42.2020   \n",
       "51880          0           0       600         N    5953-6     0.0226   \n",
       "\n",
       "          GISAcres                                          qpub_link  \\\n",
       "0        24.718663  https://qpublic.schneidercorp.com/Application....   \n",
       "1         1.412801  https://qpublic.schneidercorp.com/Application....   \n",
       "2         8.412005  https://qpublic.schneidercorp.com/Application....   \n",
       "3         2.499308  https://qpublic.schneidercorp.com/Application....   \n",
       "4         1.174124  https://qpublic.schneidercorp.com/Application....   \n",
       "...            ...                                                ...   \n",
       "51876  7113.443641  https://qpublic.schneidercorp.com/Application....   \n",
       "51877    22.643961  https://qpublic.schneidercorp.com/Application....   \n",
       "51878    57.755559  https://qpublic.schneidercorp.com/Application....   \n",
       "51879    42.497785  https://qpublic.schneidercorp.com/Application....   \n",
       "51880     0.144956  https://qpublic.schneidercorp.com/Application....   \n",
       "\n",
       "         Shape_Leng    Shape_Area tax_plat  \n",
       "0       2937.632735  1.000329e+05   211001  \n",
       "1        338.916826  5.717401e+03   211001  \n",
       "2       1560.773608  3.404218e+04   211001  \n",
       "3        420.385964  1.011434e+04   211001  \n",
       "4        291.173935  4.751513e+03   211001  \n",
       "...             ...           ...      ...  \n",
       "51876  47307.328495  2.878709e+07   261001  \n",
       "51877   1242.587340  9.163686e+04   261001  \n",
       "51878   2469.117529  2.337285e+05   261001  \n",
       "51879   2552.565023  1.719824e+05   261001  \n",
       "51880     97.427171  5.866158e+02   261001  \n",
       "\n",
       "[51881 rows x 17 columns]"
      ]
     },
     "execution_count": 25,
     "metadata": {},
     "output_type": "execute_result"
    }
   ],
   "source": [
    "# read data from shapefile and make reasonable pandas dataframe that I can display here \n",
    "\n",
    "# The data file to read\n",
    "shp_path = os.path.join(\"temp\", 'maucotmk_copy.shp')\n",
    "\n",
    "columns_nams = [field.name for field in arcpy.ListFields(shp_path)]     # List of all col names\n",
    "columns_nams.pop(1)  # remove stupid shape col                           # THe \"Shape\" col will make numpy array to pandas puke\n",
    "temparr = arcpy.da.FeatureClassToNumPyArray(shp_path, columns_nams)     # convert to numpy recarray\n",
    "OSDS_wGrid = pd.DataFrame(temparr)                                       # Convert to pandas bliss\n",
    "OSDS_wGrid"
   ]
  },
  {
   "cell_type": "code",
   "execution_count": null,
   "id": "d44bf914",
   "metadata": {},
   "outputs": [],
   "source": []
  },
  {
   "cell_type": "code",
   "execution_count": null,
   "id": "4ebf9f6c",
   "metadata": {},
   "outputs": [],
   "source": []
  }
 ],
 "metadata": {
  "kernelspec": {
   "display_name": "Python 3 (ipykernel)",
   "language": "python",
   "name": "python3"
  },
  "language_info": {
   "codemirror_mode": {
    "name": "ipython",
    "version": 3
   },
   "file_extension": ".py",
   "mimetype": "text/x-python",
   "name": "python",
   "nbconvert_exporter": "python",
   "pygments_lexer": "ipython3",
   "version": "3.11.10"
  }
 },
 "nbformat": 4,
 "nbformat_minor": 5
}
