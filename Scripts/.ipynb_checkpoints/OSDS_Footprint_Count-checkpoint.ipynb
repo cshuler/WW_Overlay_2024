{
 "cells": [
  {
   "cell_type": "code",
   "execution_count": 6,
   "id": "b6e283d0",
   "metadata": {},
   "outputs": [
    {
     "name": "stdout",
     "output_type": "stream",
     "text": [
      "Adding count fields to parcels...\n",
      "Counting OSDS per parcel...\n",
      "Counting building footprints per parcel...\n"
     ]
    },
    {
     "ename": "ExecuteError",
     "evalue": "Failed to execute. Parameters are not valid.\nERROR 000732: Join Features: Dataset C:\\Users\\Sea Grant\\Documents\\GitHub\\WW_Overlay_2024\\Data\\Building_Footprint_Centerpoints\\Building_Footprint_Centerpoints.shp does not exist or is not supported\nFailed to execute (SpatialJoin).\n",
     "output_type": "error",
     "traceback": [
      "\u001b[1;31m---------------------------------------------------------------------------\u001b[0m",
      "\u001b[1;31mExecuteError\u001b[0m                              Traceback (most recent call last)",
      "\u001b[1;32m~\\AppData\\Local\\Temp\\ipykernel_39940\\2261049983.py\u001b[0m in \u001b[0;36m<cell line: 47>\u001b[1;34m()\u001b[0m\n\u001b[0;32m     45\u001b[0m \u001b[0mprint\u001b[0m\u001b[1;33m(\u001b[0m\u001b[1;34m\"Counting building footprints per parcel...\"\u001b[0m\u001b[1;33m)\u001b[0m\u001b[1;33m\u001b[0m\u001b[1;33m\u001b[0m\u001b[0m\n\u001b[0;32m     46\u001b[0m \u001b[0mfootprints_join_output\u001b[0m \u001b[1;33m=\u001b[0m \u001b[1;34m\"in_memory\\\\footprint_join\"\u001b[0m\u001b[1;33m\u001b[0m\u001b[1;33m\u001b[0m\u001b[0m\n\u001b[1;32m---> 47\u001b[1;33m arcpy.analysis.SpatialJoin(\n\u001b[0m\u001b[0;32m     48\u001b[0m     \u001b[0mtarget_features\u001b[0m\u001b[1;33m=\u001b[0m\u001b[0mosds_join_output\u001b[0m\u001b[1;33m,\u001b[0m\u001b[1;33m\u001b[0m\u001b[1;33m\u001b[0m\u001b[0m\n\u001b[0;32m     49\u001b[0m     \u001b[0mjoin_features\u001b[0m\u001b[1;33m=\u001b[0m\u001b[0mfootprints_fc\u001b[0m\u001b[1;33m,\u001b[0m\u001b[1;33m\u001b[0m\u001b[1;33m\u001b[0m\u001b[0m\n",
      "\u001b[1;32mC:\\Program Files\\ArcGIS\\Pro\\Resources\\ArcPy\\arcpy\\analysis.py\u001b[0m in \u001b[0;36mSpatialJoin\u001b[1;34m(target_features, join_features, out_feature_class, join_operation, join_type, field_mapping, match_option, search_radius, distance_field_name, match_fields)\u001b[0m\n\u001b[0;32m    747\u001b[0m         \u001b[1;32mreturn\u001b[0m \u001b[0mretval\u001b[0m\u001b[1;33m\u001b[0m\u001b[1;33m\u001b[0m\u001b[0m\n\u001b[0;32m    748\u001b[0m     \u001b[1;32mexcept\u001b[0m \u001b[0mException\u001b[0m \u001b[1;32mas\u001b[0m \u001b[0me\u001b[0m\u001b[1;33m:\u001b[0m\u001b[1;33m\u001b[0m\u001b[1;33m\u001b[0m\u001b[0m\n\u001b[1;32m--> 749\u001b[1;33m         \u001b[1;32mraise\u001b[0m \u001b[0me\u001b[0m\u001b[1;33m\u001b[0m\u001b[1;33m\u001b[0m\u001b[0m\n\u001b[0m\u001b[0;32m    750\u001b[0m \u001b[1;33m\u001b[0m\u001b[0m\n\u001b[0;32m    751\u001b[0m \u001b[1;33m@\u001b[0m\u001b[0mgptooldoc\u001b[0m\u001b[1;33m(\u001b[0m\u001b[1;34m'SymDiff_analysis'\u001b[0m\u001b[1;33m,\u001b[0m \u001b[1;32mNone\u001b[0m\u001b[1;33m)\u001b[0m\u001b[1;33m\u001b[0m\u001b[1;33m\u001b[0m\u001b[0m\n",
      "\u001b[1;32mC:\\Program Files\\ArcGIS\\Pro\\Resources\\ArcPy\\arcpy\\analysis.py\u001b[0m in \u001b[0;36mSpatialJoin\u001b[1;34m(target_features, join_features, out_feature_class, join_operation, join_type, field_mapping, match_option, search_radius, distance_field_name, match_fields)\u001b[0m\n\u001b[0;32m    744\u001b[0m     \u001b[1;32mfrom\u001b[0m \u001b[0marcpy\u001b[0m\u001b[1;33m.\u001b[0m\u001b[0marcobjects\u001b[0m\u001b[1;33m.\u001b[0m\u001b[0marcobjectconversion\u001b[0m \u001b[1;32mimport\u001b[0m \u001b[0mconvertArcObjectToPythonObject\u001b[0m\u001b[1;33m\u001b[0m\u001b[1;33m\u001b[0m\u001b[0m\n\u001b[0;32m    745\u001b[0m     \u001b[1;32mtry\u001b[0m\u001b[1;33m:\u001b[0m\u001b[1;33m\u001b[0m\u001b[1;33m\u001b[0m\u001b[0m\n\u001b[1;32m--> 746\u001b[1;33m         \u001b[0mretval\u001b[0m \u001b[1;33m=\u001b[0m \u001b[0mconvertArcObjectToPythonObject\u001b[0m\u001b[1;33m(\u001b[0m\u001b[0mgp\u001b[0m\u001b[1;33m.\u001b[0m\u001b[0mSpatialJoin_analysis\u001b[0m\u001b[1;33m(\u001b[0m\u001b[1;33m*\u001b[0m\u001b[0mgp_fixargs\u001b[0m\u001b[1;33m(\u001b[0m\u001b[1;33m(\u001b[0m\u001b[0mtarget_features\u001b[0m\u001b[1;33m,\u001b[0m \u001b[0mjoin_features\u001b[0m\u001b[1;33m,\u001b[0m \u001b[0mout_feature_class\u001b[0m\u001b[1;33m,\u001b[0m \u001b[0mjoin_operation\u001b[0m\u001b[1;33m,\u001b[0m \u001b[0mjoin_type\u001b[0m\u001b[1;33m,\u001b[0m \u001b[0mfield_mapping\u001b[0m\u001b[1;33m,\u001b[0m \u001b[0mmatch_option\u001b[0m\u001b[1;33m,\u001b[0m \u001b[0msearch_radius\u001b[0m\u001b[1;33m,\u001b[0m \u001b[0mdistance_field_name\u001b[0m\u001b[1;33m,\u001b[0m \u001b[0mmatch_fields\u001b[0m\u001b[1;33m)\u001b[0m\u001b[1;33m,\u001b[0m \u001b[1;32mTrue\u001b[0m\u001b[1;33m)\u001b[0m\u001b[1;33m)\u001b[0m\u001b[1;33m)\u001b[0m\u001b[1;33m\u001b[0m\u001b[1;33m\u001b[0m\u001b[0m\n\u001b[0m\u001b[0;32m    747\u001b[0m         \u001b[1;32mreturn\u001b[0m \u001b[0mretval\u001b[0m\u001b[1;33m\u001b[0m\u001b[1;33m\u001b[0m\u001b[0m\n\u001b[0;32m    748\u001b[0m     \u001b[1;32mexcept\u001b[0m \u001b[0mException\u001b[0m \u001b[1;32mas\u001b[0m \u001b[0me\u001b[0m\u001b[1;33m:\u001b[0m\u001b[1;33m\u001b[0m\u001b[1;33m\u001b[0m\u001b[0m\n",
      "\u001b[1;32mC:\\Program Files\\ArcGIS\\Pro\\Resources\\ArcPy\\arcpy\\geoprocessing\\_base.py\u001b[0m in \u001b[0;36m<lambda>\u001b[1;34m(*args)\u001b[0m\n\u001b[0;32m    518\u001b[0m         \u001b[0mval\u001b[0m \u001b[1;33m=\u001b[0m \u001b[0mgetattr\u001b[0m\u001b[1;33m(\u001b[0m\u001b[0mself\u001b[0m\u001b[1;33m.\u001b[0m\u001b[0m_gp\u001b[0m\u001b[1;33m,\u001b[0m \u001b[0mattr\u001b[0m\u001b[1;33m)\u001b[0m\u001b[1;33m\u001b[0m\u001b[1;33m\u001b[0m\u001b[0m\n\u001b[0;32m    519\u001b[0m         \u001b[1;32mif\u001b[0m \u001b[0mcallable\u001b[0m\u001b[1;33m(\u001b[0m\u001b[0mval\u001b[0m\u001b[1;33m)\u001b[0m\u001b[1;33m:\u001b[0m\u001b[1;33m\u001b[0m\u001b[1;33m\u001b[0m\u001b[0m\n\u001b[1;32m--> 520\u001b[1;33m             \u001b[1;32mreturn\u001b[0m \u001b[1;32mlambda\u001b[0m \u001b[1;33m*\u001b[0m\u001b[0margs\u001b[0m\u001b[1;33m:\u001b[0m \u001b[0mval\u001b[0m\u001b[1;33m(\u001b[0m\u001b[1;33m*\u001b[0m\u001b[0mgp_fixargs\u001b[0m\u001b[1;33m(\u001b[0m\u001b[0margs\u001b[0m\u001b[1;33m,\u001b[0m \u001b[1;32mTrue\u001b[0m\u001b[1;33m)\u001b[0m\u001b[1;33m)\u001b[0m\u001b[1;33m\u001b[0m\u001b[1;33m\u001b[0m\u001b[0m\n\u001b[0m\u001b[0;32m    521\u001b[0m         \u001b[1;32melse\u001b[0m\u001b[1;33m:\u001b[0m\u001b[1;33m\u001b[0m\u001b[1;33m\u001b[0m\u001b[0m\n\u001b[0;32m    522\u001b[0m             \u001b[1;32mreturn\u001b[0m \u001b[0mconvertArcObjectToPythonObject\u001b[0m\u001b[1;33m(\u001b[0m\u001b[0mval\u001b[0m\u001b[1;33m)\u001b[0m\u001b[1;33m\u001b[0m\u001b[1;33m\u001b[0m\u001b[0m\n",
      "\u001b[1;31mExecuteError\u001b[0m: Failed to execute. Parameters are not valid.\nERROR 000732: Join Features: Dataset C:\\Users\\Sea Grant\\Documents\\GitHub\\WW_Overlay_2024\\Data\\Building_Footprint_Centerpoints\\Building_Footprint_Centerpoints.shp does not exist or is not supported\nFailed to execute (SpatialJoin).\n"
     ]
    }
   ],
   "source": [
    "import arcpy\n",
    "\n",
    "# -------------------------------------------------------------------\n",
    "# User-defined parameters\n",
    "# -------------------------------------------------------------------\n",
    "parcels_fc = r\"C:\\Users\\Sea Grant\\Documents\\GitHub\\WW_Overlay_2024\\Data\\Outputs\\TaxPlat_No_P1\\TaxPlat_No_P1.shp\"\n",
    "osds_fc = r\"C:\\Users\\Sea Grant\\Documents\\GitHub\\WW_Overlay_2024\\Data\\OSDS\\OahuOSDS\\On-site_Sewage_Disposal_Systems_-_Oahu.shp\"\n",
    "footprints_fc = r\"C:\\Users\\Sea Grant\\Documents\\GitHub\\WW_Overlay_2024\\Data\\Building_Footprint_Centerpoints\\Building_Footprint_Centerpoints.shp\"\n",
    "output_fc = r\"C:\\Users\\Sea Grant\\Documents\\GitHub\\WW_Overlay_2024\\Data\\Outputs\\Parcels_with_Counts.shp\"\n",
    "\n",
    "# -------------------------------------------------------------------\n",
    "# Output field names\n",
    "# -------------------------------------------------------------------\n",
    "osds_count_field = \"OSDS_Ct\"\n",
    "footprint_count_field = \"Ftprt_Ct\"\n",
    "\n",
    "# -------------------------------------------------------------------\n",
    "# 1. Add Fields for Counts in the Parcel Feature Class\n",
    "# -------------------------------------------------------------------\n",
    "print(\"Adding count fields to parcels...\")\n",
    "arcpy.env.overwriteOutput = True\n",
    "\n",
    "if osds_count_field not in [f.name for f in arcpy.ListFields(parcels_fc)]:\n",
    "    arcpy.management.AddField(parcels_fc, osds_count_field, \"LONG\")\n",
    "if footprint_count_field not in [f.name for f in arcpy.ListFields(parcels_fc)]:\n",
    "    arcpy.management.AddField(parcels_fc, footprint_count_field, \"LONG\")\n",
    "\n",
    "# -------------------------------------------------------------------\n",
    "# 2. Spatial Join for OSDS Counts\n",
    "# -------------------------------------------------------------------\n",
    "print(\"Counting OSDS per parcel...\")\n",
    "osds_join_output = \"in_memory\\\\osds_join\"\n",
    "arcpy.analysis.SpatialJoin(\n",
    "    target_features=parcels_fc,\n",
    "    join_features=osds_fc,\n",
    "    out_feature_class=osds_join_output,\n",
    "    join_operation=\"JOIN_ONE_TO_ONE\",\n",
    "    join_type=\"KEEP_ALL\",\n",
    "    match_option=\"CONTAINS\"\n",
    ")\n",
    "\n",
    "# -------------------------------------------------------------------\n",
    "# 3. Spatial Join for Building Footprint Counts\n",
    "# -------------------------------------------------------------------\n",
    "print(\"Counting building footprints per parcel...\")\n",
    "footprints_join_output = \"in_memory\\\\footprint_join\"\n",
    "arcpy.analysis.SpatialJoin(\n",
    "    target_features=osds_join_output,\n",
    "    join_features=footprints_fc,\n",
    "    out_feature_class=footprints_join_output,\n",
    "    join_operation=\"JOIN_ONE_TO_ONE\",\n",
    "    join_type=\"KEEP_ALL\",\n",
    "    match_option=\"CONTAINS\"\n",
    ")\n",
    "\n",
    "# -------------------------------------------------------------------\n",
    "# 4. Update the Attribute Table with the Counts\n",
    "# -------------------------------------------------------------------\n",
    "print(\"Updating parcel attribute table with counts...\")\n",
    "with arcpy.da.UpdateCursor(footprints_join_output, [\"Join_Count\", osds_count_field, footprint_count_field]) as cursor:\n",
    "    for row in cursor:\n",
    "        osds_count = row[0]  # Count of OSDS from spatial join\n",
    "        footprint_count = row[1]  # Count of footprints from spatial join\n",
    "        row[1] = osds_count if osds_count else 0  # Default to 0 if null\n",
    "        row[2] = footprint_count if footprint_count else 0\n",
    "        cursor.updateRow(row)\n",
    "\n",
    "# -------------------------------------------------------------------\n",
    "# 5. Save Final Output\n",
    "# -------------------------------------------------------------------\n",
    "print(\"Saving final output...\")\n",
    "arcpy.management.CopyFeatures(footprints_join_output, output_fc)\n",
    "\n",
    "print(f\"Counts added. Final output saved at {output_fc}\")\n"
   ]
  },
  {
   "cell_type": "code",
   "execution_count": null,
   "id": "fb88a74f",
   "metadata": {},
   "outputs": [],
   "source": []
  }
 ],
 "metadata": {
  "kernelspec": {
   "display_name": "Python 3 (ipykernel)",
   "language": "python",
   "name": "python3"
  },
  "language_info": {
   "codemirror_mode": {
    "name": "ipython",
    "version": 3
   },
   "file_extension": ".py",
   "mimetype": "text/x-python",
   "name": "python",
   "nbconvert_exporter": "python",
   "pygments_lexer": "ipython3",
   "version": "3.9.18"
  }
 },
 "nbformat": 4,
 "nbformat_minor": 5
}
