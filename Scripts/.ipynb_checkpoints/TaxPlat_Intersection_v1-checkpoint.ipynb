{
 "cells": [
  {
   "cell_type": "code",
   "execution_count": 6,
   "id": "a88a5420",
   "metadata": {},
   "outputs": [],
   "source": [
    "import arcpy\n"
   ]
  },
  {
   "cell_type": "code",
   "execution_count": 8,
   "id": "a8f64a19",
   "metadata": {},
   "outputs": [
    {
     "name": "stdout",
     "output_type": "stream",
     "text": [
      "Successfully added field: OSDS\n",
      "Successfully added field: Footprint\n",
      "Successfully added field: Mains\n"
     ]
    },
    {
     "ename": "AttributeError",
     "evalue": "'Polygon' object has no attribute 'intersects'",
     "output_type": "error",
     "traceback": [
      "\u001b[1;31m---------------------------------------------------------------------------\u001b[0m",
      "\u001b[1;31mAttributeError\u001b[0m                            Traceback (most recent call last)",
      "\u001b[1;32m~\\AppData\\Local\\Temp\\ipykernel_34680\\406416317.py\u001b[0m in \u001b[0;36m<cell line: 23>\u001b[1;34m()\u001b[0m\n\u001b[0;32m     40\u001b[0m                     \u001b[1;32mfor\u001b[0m \u001b[0mintersect_row\u001b[0m \u001b[1;32min\u001b[0m \u001b[0mintersect_cursor\u001b[0m\u001b[1;33m:\u001b[0m\u001b[1;33m\u001b[0m\u001b[1;33m\u001b[0m\u001b[0m\n\u001b[0;32m     41\u001b[0m                         \u001b[0mintersect_geometry\u001b[0m \u001b[1;33m=\u001b[0m \u001b[0mintersect_row\u001b[0m\u001b[1;33m[\u001b[0m\u001b[1;36m0\u001b[0m\u001b[1;33m]\u001b[0m\u001b[1;33m\u001b[0m\u001b[1;33m\u001b[0m\u001b[0m\n\u001b[1;32m---> 42\u001b[1;33m                         \u001b[1;32mif\u001b[0m \u001b[0mgeometry\u001b[0m\u001b[1;33m.\u001b[0m\u001b[0moverlaps\u001b[0m\u001b[1;33m(\u001b[0m\u001b[0mintersect_geometry\u001b[0m\u001b[1;33m)\u001b[0m \u001b[1;32mor\u001b[0m \u001b[0mgeometry\u001b[0m\u001b[1;33m.\u001b[0m\u001b[0mintersects\u001b[0m\u001b[1;33m(\u001b[0m\u001b[0mintersect_geometry\u001b[0m\u001b[1;33m)\u001b[0m\u001b[1;33m:\u001b[0m\u001b[1;33m\u001b[0m\u001b[1;33m\u001b[0m\u001b[0m\n\u001b[0m\u001b[0;32m     43\u001b[0m                             \u001b[0mintersects\u001b[0m \u001b[1;33m=\u001b[0m \u001b[1;32mTrue\u001b[0m\u001b[1;33m\u001b[0m\u001b[1;33m\u001b[0m\u001b[0m\n\u001b[0;32m     44\u001b[0m                             \u001b[1;32mbreak\u001b[0m\u001b[1;33m\u001b[0m\u001b[1;33m\u001b[0m\u001b[0m\n",
      "\u001b[1;31mAttributeError\u001b[0m: 'Polygon' object has no attribute 'intersects'"
     ]
    }
   ],
   "source": [
    "# Input layer name\n",
    "input_layer = r\"C:\\Users\\Sea Grant\\Documents\\GitHub\\WW_Overlay_2024\\Data\\Outputs\\TaxPlat_No_P1\\TaxPlat_No_P1.shp\"\n",
    "\n",
    "# List of fields to add\n",
    "fields_to_add = [\"OSDS\", \"Footprint\", \"Mains\"]\n",
    "\n",
    "# Add fields to the layer\n",
    "for field in fields_to_add:\n",
    "    try:\n",
    "        arcpy.AddField_management(input_layer, field, \"TEXT\")  # Add text field\n",
    "        print(f\"Successfully added field: {field}\")\n",
    "    except Exception as e:\n",
    "        print(f\"Failed to add field {field}: {e}\")\n",
    "\n",
    "# List of layers corresponding to each field\n",
    "intersect_layers = {\n",
    "    \"OSDS\": r\"C:\\Users\\Sea Grant\\Documents\\GitHub\\WW_Overlay_2024\\Data\\OSDS\\OahuOSDS\\On-site_Sewage_Disposal_Systems_-_Oahu.shp\",  # Replace with the path to the OSDS layer\n",
    "    \"Footprint\": r\"C:\\Users\\Sea Grant\\Documents\\GitHub\\WW_Overlay_2024\\Data\\Building_Footprint_Centerpoints\\Building_Footprint_Centerpoints.shp\",  # Replace with the path to the Footprint layer\n",
    "    \"Mains\": r\"C:\\Users\\Sea Grant\\Documents\\GitHub\\WW_Overlay_2024\\Data\\SewerMains\\OahuSewerMains\\Sewer_Main.shp\",  # Replace with the path to the Mains layer\n",
    "}\n",
    "\n",
    "# Update cursor to update the fields based on intersection\n",
    "with arcpy.da.UpdateCursor(input_layer, [\"OID@\"] + fields_to_add) as cursor:\n",
    "    for row in cursor:\n",
    "        oid = row[0]\n",
    "        row_update = [oid]  # Start with the OID\n",
    "\n",
    "        # Get the geometry of the current feature in the input layer\n",
    "        where_clause = f\"OBJECTID = {oid}\"\n",
    "        with arcpy.da.SearchCursor(input_layer, [\"SHAPE@\"], where_clause) as search_cursor:\n",
    "            geometry = None\n",
    "            for search_row in search_cursor:\n",
    "                geometry = search_row[0]\n",
    "                break  # Only expect one row per OBJECTID\n",
    "\n",
    "        if geometry:\n",
    "            for field, layer_path in intersect_layers.items():\n",
    "                intersects = False\n",
    "                with arcpy.da.SearchCursor(layer_path, [\"SHAPE@\"]) as intersect_cursor:\n",
    "                    for intersect_row in intersect_cursor:\n",
    "                        intersect_geometry = intersect_row[0]\n",
    "                        if geometry.overlaps(intersect_geometry) or geometry.intersects(intersect_geometry):\n",
    "                            intersects = True\n",
    "                            break\n",
    "                row_update.append(\"yes\" if intersects else \"no\")\n",
    "        else:\n",
    "            row_update.extend([\"no\", \"no\", \"no\"])  # If no geometry found, default to \"no\" for all fields\n",
    "\n",
    "        # Update the row\n",
    "        row[1:] = row_update[1:]  # Exclude the OID from update\n",
    "        cursor.updateRow(row)\n",
    "\n",
    "print(\"Field update process complete.\")"
   ]
  },
  {
   "cell_type": "code",
   "execution_count": null,
   "id": "cf57186f",
   "metadata": {},
   "outputs": [],
   "source": []
  }
 ],
 "metadata": {
  "kernelspec": {
   "display_name": "Python 3 (ipykernel)",
   "language": "python",
   "name": "python3"
  },
  "language_info": {
   "codemirror_mode": {
    "name": "ipython",
    "version": 3
   },
   "file_extension": ".py",
   "mimetype": "text/x-python",
   "name": "python",
   "nbconvert_exporter": "python",
   "pygments_lexer": "ipython3",
   "version": "3.9.18"
  }
 },
 "nbformat": 4,
 "nbformat_minor": 5
}
