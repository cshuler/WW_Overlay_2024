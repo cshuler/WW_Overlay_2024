{
 "cells": [
  {
   "cell_type": "code",
   "execution_count": 1,
   "id": "5063f604",
   "metadata": {},
   "outputs": [],
   "source": [
    "import arcpy\n",
    "\n",
    "# Full paths to the layers\n",
    "input_layer = r\"C:\\Users\\Sea Grant\\Documents\\GitHub\\WW_Overlay_2024\\Data\\Outputs\\TaxPlat_No_P1\\TaxPlat_No_P1.shp\"\n",
    "osds_layer = r\"C:\\Users\\Sea Grant\\Documents\\GitHub\\WW_Overlay_2024\\Data\\OSDS\\OahuOSDS\\On-site_Sewage_Disposal_Systems_-_Oahu.shp\"\n",
    "footprint_layer = r\"C:\\Users\\Sea Grant\\Documents\\GitHub\\WW_Overlay_2024\\Data\\Building_Footprint_Centerpoints\\Building_Footprint_Centerpoints.shp\"\n",
    "mains_layer = r\"C:\\Users\\Sea Grant\\Documents\\GitHub\\WW_Overlay_2024\\Data\\SewerMains\\OahuSewerMains\\Sewer_Main.shp\"\n",
    "\n"
   ]
  },
  {
   "cell_type": "code",
   "execution_count": 2,
   "id": "8285229c",
   "metadata": {},
   "outputs": [],
   "source": [
    "# List of fields to add\n",
    "fields_to_add = [\"OSDS\", \"Footprint\", \"Mains\"]\n",
    "\n",
    "# Add fields to the layer\n",
    "for field in fields_to_add:\n",
    "    try:\n",
    "        arcpy.AddField_management(input_layer, field, \"TEXT\")  # Add text field\n",
    "    except Exception as e:\n",
    "        pass  # Ignore field addition errors\n",
    "\n",
    "# List of layers corresponding to each field\n",
    "intersect_layers = {\n",
    "    \"OSDS\": osds_layer,\n",
    "    \"Footprint\": footprint_layer,\n",
    "    \"Mains\": mains_layer\n",
    "}"
   ]
  },
  {
   "cell_type": "code",
   "execution_count": null,
   "id": "af8b871a",
   "metadata": {},
   "outputs": [],
   "source": [
    "# Update cursor to update the fields based on intersection\n",
    "with arcpy.da.UpdateCursor(input_layer, [\"OID@\", \"SHAPE@\"] + fields_to_add) as cursor:\n",
    "    for row in cursor:\n",
    "        oid = row[0]\n",
    "        taxplat_geometry = row[1]\n",
    "\n",
    "        # Check for intersections with each layer\n",
    "        for i, (field, layer_path) in enumerate(intersect_layers.items(), start=2):  # Start=2 to skip OID and SHAPE\n",
    "            intersects = False\n",
    "\n",
    "            try:\n",
    "                # Check if the TaxPlat geometry intersects with any feature in the intersecting layer\n",
    "                with arcpy.da.SearchCursor(layer_path, [\"SHAPE@\"]) as intersect_cursor:\n",
    "                    for intersect_row in intersect_cursor:\n",
    "                        intersect_geometry = intersect_row[0]\n",
    "\n",
    "                        # Ensure valid geometries\n",
    "                        if taxplat_geometry and intersect_geometry:\n",
    "                            # Use `intersects` for polygons and points\n",
    "                            if taxplat_geometry.overlaps(intersect_geometry) or taxplat_geometry.crosses(intersect_geometry) or taxplat_geometry.touches(intersect_geometry):\n",
    "                                intersects = True\n",
    "                                break\n",
    "            except Exception as e:\n",
    "                pass  # Ignore individual layer errors\n",
    "\n",
    "            row[i] = \"yes\" if intersects else \"no\"\n",
    "\n",
    "        cursor.updateRow(row)\n",
    "\n",
    "print(\"Field update process complete.\")"
   ]
  },
  {
   "cell_type": "code",
   "execution_count": null,
   "id": "6412cfcf",
   "metadata": {},
   "outputs": [],
   "source": []
  }
 ],
 "metadata": {
  "kernelspec": {
   "display_name": "Python 3 (ipykernel)",
   "language": "python",
   "name": "python3"
  },
  "language_info": {
   "codemirror_mode": {
    "name": "ipython",
    "version": 3
   },
   "file_extension": ".py",
   "mimetype": "text/x-python",
   "name": "python",
   "nbconvert_exporter": "python",
   "pygments_lexer": "ipython3",
   "version": "3.9.18"
  }
 },
 "nbformat": 4,
 "nbformat_minor": 5
}
