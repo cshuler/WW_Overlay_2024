{
 "cells": [
  {
   "cell_type": "code",
   "execution_count": 1,
   "id": "a1a583b5",
   "metadata": {},
   "outputs": [
    {
     "name": "stdout",
     "output_type": "stream",
     "text": [
      "Successfully added field: OSDS\n",
      "Successfully added field: Footprint\n",
      "Successfully added field: Mains\n"
     ]
    },
    {
     "ename": "AttributeError",
     "evalue": "'Polygon' object has no attribute 'intersects'",
     "output_type": "error",
     "traceback": [
      "\u001b[1;31m---------------------------------------------------------------------------\u001b[0m",
      "\u001b[1;31mAttributeError\u001b[0m                            Traceback (most recent call last)",
      "\u001b[1;32m~\\AppData\\Local\\Temp\\ipykernel_20832\\2474937158.py\u001b[0m in \u001b[0;36m<cell line: 28>\u001b[1;34m()\u001b[0m\n\u001b[0;32m     39\u001b[0m                 \u001b[1;32mfor\u001b[0m \u001b[0mintersect_row\u001b[0m \u001b[1;32min\u001b[0m \u001b[0mintersect_cursor\u001b[0m\u001b[1;33m:\u001b[0m\u001b[1;33m\u001b[0m\u001b[1;33m\u001b[0m\u001b[0m\n\u001b[0;32m     40\u001b[0m                     \u001b[0mintersect_geometry\u001b[0m \u001b[1;33m=\u001b[0m \u001b[0mintersect_row\u001b[0m\u001b[1;33m[\u001b[0m\u001b[1;36m0\u001b[0m\u001b[1;33m]\u001b[0m\u001b[1;33m\u001b[0m\u001b[1;33m\u001b[0m\u001b[0m\n\u001b[1;32m---> 41\u001b[1;33m                     \u001b[1;32mif\u001b[0m \u001b[0mtaxplat_geometry\u001b[0m\u001b[1;33m.\u001b[0m\u001b[0moverlaps\u001b[0m\u001b[1;33m(\u001b[0m\u001b[0mintersect_geometry\u001b[0m\u001b[1;33m)\u001b[0m \u001b[1;32mor\u001b[0m \u001b[0mtaxplat_geometry\u001b[0m\u001b[1;33m.\u001b[0m\u001b[0mintersects\u001b[0m\u001b[1;33m(\u001b[0m\u001b[0mintersect_geometry\u001b[0m\u001b[1;33m)\u001b[0m\u001b[1;33m:\u001b[0m\u001b[1;33m\u001b[0m\u001b[1;33m\u001b[0m\u001b[0m\n\u001b[0m\u001b[0;32m     42\u001b[0m                         \u001b[0mintersects\u001b[0m \u001b[1;33m=\u001b[0m \u001b[1;32mTrue\u001b[0m\u001b[1;33m\u001b[0m\u001b[1;33m\u001b[0m\u001b[0m\n\u001b[0;32m     43\u001b[0m                         \u001b[1;32mbreak\u001b[0m\u001b[1;33m\u001b[0m\u001b[1;33m\u001b[0m\u001b[0m\n",
      "\u001b[1;31mAttributeError\u001b[0m: 'Polygon' object has no attribute 'intersects'"
     ]
    }
   ],
   "source": [
    "import arcpy\n",
    "\n",
    "# Full paths to the layers\n",
    "input_layer = r\"C:\\Users\\Sea Grant\\Documents\\GitHub\\WW_Overlay_2024\\Data\\Outputs\\TaxPlat_No_P1\\TaxPlat_No_P1.shp\"\n",
    "osds_layer = r\"C:\\Users\\Sea Grant\\Documents\\GitHub\\WW_Overlay_2024\\Data\\OSDS\\OahuOSDS\\On-site_Sewage_Disposal_Systems_-_Oahu.shp\"\n",
    "footprint_layer = r\"C:\\Users\\Sea Grant\\Documents\\GitHub\\WW_Overlay_2024\\Data\\Building_Footprint_Centerpoints\\Building_Footprint_Centerpoints.shp\"\n",
    "mains_layer = r\"C:\\Users\\Sea Grant\\Documents\\GitHub\\WW_Overlay_2024\\Data\\SewerMains\\OahuSewerMains\\Sewer_Main.shp\"\n",
    "\n",
    "# List of fields to add\n",
    "fields_to_add = [\"OSDS\", \"Footprint\", \"Mains\"]\n",
    "\n",
    "# Add fields to the layer\n",
    "for field in fields_to_add:\n",
    "    try:\n",
    "        arcpy.AddField_management(input_layer, field, \"TEXT\")  # Add text field\n",
    "        print(f\"Successfully added field: {field}\")\n",
    "    except Exception as e:\n",
    "        print(f\"Failed to add field {field}: {e}\")\n",
    "\n",
    "# List of layers corresponding to each field\n",
    "intersect_layers = {\n",
    "    \"OSDS\": osds_layer,\n",
    "    \"Footprint\": footprint_layer,\n",
    "    \"Mains\": mains_layer\n",
    "}\n",
    "\n",
    "# Update cursor to update the fields based on intersection\n",
    "with arcpy.da.UpdateCursor(input_layer, [\"OID@\", \"SHAPE@\"] + fields_to_add) as cursor:\n",
    "    for row in cursor:\n",
    "        oid = row[0]\n",
    "        taxplat_geometry = row[1]\n",
    "\n",
    "        # Check for intersections with each layer\n",
    "        for i, (field, layer_path) in enumerate(intersect_layers.items(), start=2):  # Start=2 to skip OID and SHAPE\n",
    "            intersects = False\n",
    "\n",
    "            # Check if the TaxPlat geometry intersects with any feature in the intersecting layer\n",
    "            with arcpy.da.SearchCursor(layer_path, [\"SHAPE@\"]) as intersect_cursor:\n",
    "                for intersect_row in intersect_cursor:\n",
    "                    intersect_geometry = intersect_row[0]\n",
    "                    if taxplat_geometry.overlaps(intersect_geometry) or taxplat_geometry.intersects(intersect_geometry):\n",
    "                        intersects = True\n",
    "                        break\n",
    "\n",
    "            row[i] = \"yes\" if intersects else \"no\"\n",
    "\n",
    "        cursor.updateRow(row)\n",
    "\n",
    "print(\"Field update process complete.\")"
   ]
  },
  {
   "cell_type": "code",
   "execution_count": 2,
   "id": "7bf07f17",
   "metadata": {},
   "outputs": [
    {
     "name": "stdout",
     "output_type": "stream",
     "text": [
      "Geometry type: <class 'arcpy.arcobjects.geometries.Polygon'>\n",
      "Geometry type: <class 'arcpy.arcobjects.geometries.PointGeometry'>\n"
     ]
    }
   ],
   "source": [
    "print(f\"Geometry type: {type(taxplat_geometry)}\")\n",
    "print(f\"Geometry type: {type(intersect_geometry)}\")"
   ]
  },
  {
   "cell_type": "code",
   "execution_count": null,
   "id": "be475a74",
   "metadata": {},
   "outputs": [],
   "source": []
  }
 ],
 "metadata": {
  "kernelspec": {
   "display_name": "Python 3 (ipykernel)",
   "language": "python",
   "name": "python3"
  },
  "language_info": {
   "codemirror_mode": {
    "name": "ipython",
    "version": 3
   },
   "file_extension": ".py",
   "mimetype": "text/x-python",
   "name": "python",
   "nbconvert_exporter": "python",
   "pygments_lexer": "ipython3",
   "version": "3.9.18"
  }
 },
 "nbformat": 4,
 "nbformat_minor": 5
}
