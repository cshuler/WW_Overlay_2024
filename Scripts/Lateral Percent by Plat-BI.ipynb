{
 "cells": [
  {
   "cell_type": "code",
   "execution_count": 13,
   "id": "d9fe21b0",
   "metadata": {},
   "outputs": [],
   "source": [
    "import os \n",
    "import pandas as pd\n",
    "import numpy as np\n",
    "import arcpy\n"
   ]
  },
  {
   "cell_type": "code",
   "execution_count": 14,
   "id": "ad2c7aab",
   "metadata": {},
   "outputs": [],
   "source": [
    "# Enable overwriting of outputs\n",
    "arcpy.env.overwriteOutput = True\n",
    "\n",
    "input_shapefile = r\"C:\\Users\\Sea Grant\\Desktop\\WW_Overlay\\MauiTMK\\MauiTMK.shp\"\n",
    "\n",
    "workspace = os.path.dirname(input_shapefile)\n",
    "arcpy.env.workspace = workspace\n",
    "\n",
    "\n",
    "# Output temporary layers\n",
    "temp_output = \"in_memory\\\\temp_output\"\n",
    "# Delete temp_output if it exists\n",
    "if arcpy.Exists(temp_output):\n",
    "    arcpy.management.Delete(temp_output)\n",
    "\n",
    "# Create a copy of the input layer to avoid modifying the original\n",
    "arcpy.management.CopyFeatures(input_shapefile, temp_output)\n",
    "\n",
    "\n",
    "# Field names \n",
    "tax_plat_field = \"TaxPlat\"   # Field that groups records by Tax Plat\n",
    "sewer_field = \"Laterals\"        # Field indicating if the TMK intersects a sewer (e.g., \"Yes\")\n",
    "unique_field = \"TMK\"    # Unique identifier for each TMK record (change if necessary)\n",
    "\n",
    "# Field for sewer intersection count\n",
    "sewer_num_field = \"SewerNum\"\n"
   ]
  },
  {
   "cell_type": "code",
   "execution_count": 15,
   "id": "15779834",
   "metadata": {},
   "outputs": [],
   "source": [
    "\n",
    "# Add and Calculate a Numeric Field for Sewer Intersection\n",
    "\n",
    "# Check if 'SewerNum' already exists; if not, add it as a short integer\n",
    "fields = [f.name for f in arcpy.ListFields(input_shapefile)]\n",
    "if sewer_num_field not in fields:\n",
    "    arcpy.AddField_management(in_table=input_shapefile,\n",
    "                              field_name=sewer_num_field,\n",
    "                              field_type=\"SHORT\")\n",
    "else:\n",
    "    arcpy.AddMessage(f\"Field '{sewer_num_field}' already exists.\")\n",
    "\n",
    "# Calculate the 'SewerNum' field: set to 1 if 'Sewer' equals \"Yes\"; otherwise, set to 0.\n",
    "calc_expression = \"1 if !{}! == 'Yes' else 0\".format(sewer_field)\n",
    "arcpy.CalculateField_management(in_table=input_shapefile,\n",
    "                                field=sewer_num_field,\n",
    "                                expression=calc_expression,\n",
    "                                expression_type=\"PYTHON3\")\n",
    "arcpy.AddMessage(f\"Calculated field '{sewer_num_field}' based on '{sewer_field}' values.\")\n"
   ]
  },
  {
   "cell_type": "code",
   "execution_count": 16,
   "id": "9d32c5cc",
   "metadata": {},
   "outputs": [],
   "source": [
    "\n",
    "#  Summarize Data by Tax Plat\n",
    "summary_table = r\"in_memory\\TaxPlat_SewerSummary\"\n",
    "\n",
    "# Define statistics:\n",
    "#   - COUNT of the unique_field gives the total number of TMKs per Tax Plat.\n",
    "#   - SUM of the SewerNum field gives the number of TMKs intersecting a sewer.\n",
    "statistics_fields = [[unique_field, \"COUNT\"], [sewer_num_field, \"SUM\"]]\n",
    "\n",
    "arcpy.analysis.Statistics(in_table=input_shapefile,\n",
    "                          out_table=summary_table,\n",
    "                          statistics_fields=statistics_fields,\n",
    "                          case_field=[tax_plat_field])"
   ]
  },
  {
   "cell_type": "code",
   "execution_count": 17,
   "id": "2fc13644",
   "metadata": {},
   "outputs": [],
   "source": [
    "\n",
    "# Calculate the Percentage of TMKs Intersecting a Sewer\n",
    "\n",
    "# Add a new field to the summary table for the percentage\n",
    "perc_field = \"SewerPerc\"\n",
    "arcpy.AddField_management(in_table=summary_table,\n",
    "                          field_name=perc_field,\n",
    "                          field_type=\"DOUBLE\")\n",
    "\n",
    "# The Statistics tool automatically names the output fields as follows:\n",
    "#   - \"COUNT_<unique_field>\" for the count of TMKs.\n",
    "#   - \"SUM_<sewer_num_field>\" for the sum of sewer intersections.\n",
    "count_field = \"COUNT_\" + unique_field\n",
    "sum_field   = \"SUM_\" + sewer_num_field\n",
    "\n",
    "# Define a code block that calculates the percentage.\n",
    "# This function checks if the count is zero to avoid division by zero.\n",
    "code_block = \"\"\"\n",
    "def calcPerc(count_val, sum_val):\n",
    "    if count_val == 0:\n",
    "        return 0\n",
    "    else:\n",
    "        return (sum_val / count_val) * 100\n",
    "\"\"\"\n",
    "\n",
    "# Use the code block in the Calculate Field tool.\n",
    "expression = \"calcPerc(!{0}!, !{1}!)\".format(count_field, sum_field)\n",
    "\n",
    "arcpy.CalculateField_management(in_table=summary_table,\n",
    "                                field=perc_field,\n",
    "                                expression=expression,\n",
    "                                expression_type=\"PYTHON3\",\n",
    "                                code_block=code_block)\n"
   ]
  },
  {
   "cell_type": "code",
   "execution_count": 18,
   "id": "27a2b9d7",
   "metadata": {
    "scrolled": true
   },
   "outputs": [],
   "source": [
    "#Join the Summary Table Back to the Input Shapefile\n",
    "# -------------------------------\n",
    "# This join adds the calculated SewerPerc field (from the summary table) to each TMK record.\n",
    "arcpy.JoinField_management(in_data=input_shapefile,\n",
    "                           in_field=tax_plat_field,\n",
    "                           join_table=summary_table,\n",
    "                           join_field=tax_plat_field,\n",
    "                           fields=[perc_field])\n",
    "\n",
    "# To ensure the join is permanent, make a copy of the joined features.\n",
    "joined_fc = os.path.join(workspace, \"TMK_TaxPlat_Joined.shp\")\n",
    "arcpy.CopyFeatures_management(in_features=input_shapefile, out_feature_class=joined_fc)\n",
    "\n",
    "out_feature_class = r\"C:\\Users\\Sea Grant\\Desktop\\WW_Overlay\\MauiTMK\\MauiTMK_LatPCT.shp\""
   ]
  },
  {
   "cell_type": "code",
   "execution_count": 12,
   "id": "62f820fe",
   "metadata": {
    "scrolled": false
   },
   "outputs": [
    {
     "ename": "ExecuteError",
     "evalue": "ERROR 160196: Invalid Topology\nFailed to execute (Dissolve).\n",
     "output_type": "error",
     "traceback": [
      "\u001b[1;31m---------------------------------------------------------------------------\u001b[0m",
      "\u001b[1;31mExecuteError\u001b[0m                              Traceback (most recent call last)",
      "\u001b[1;32m~\\AppData\\Local\\Temp\\ipykernel_43552\\4054796483.py\u001b[0m in \u001b[0;36m<cell line: 1>\u001b[1;34m()\u001b[0m\n\u001b[1;32m----> 1\u001b[1;33m \u001b[0marcpy\u001b[0m\u001b[1;33m.\u001b[0m\u001b[0mmanagement\u001b[0m\u001b[1;33m.\u001b[0m\u001b[0mDissolve\u001b[0m\u001b[1;33m(\u001b[0m\u001b[0minput_shapefile\u001b[0m\u001b[1;33m,\u001b[0m \u001b[0mout_feature_class\u001b[0m\u001b[1;33m,\u001b[0m \u001b[0mtax_plat_field\u001b[0m\u001b[1;33m)\u001b[0m\u001b[1;33m\u001b[0m\u001b[1;33m\u001b[0m\u001b[0m\n\u001b[0m",
      "\u001b[1;32mC:\\Program Files\\ArcGIS\\Pro\\Resources\\ArcPy\\arcpy\\management.py\u001b[0m in \u001b[0;36mDissolve\u001b[1;34m(in_features, out_feature_class, dissolve_field, statistics_fields, multi_part, unsplit_lines, concatenation_separator)\u001b[0m\n\u001b[0;32m   7432\u001b[0m         \u001b[1;32mreturn\u001b[0m \u001b[0mretval\u001b[0m\u001b[1;33m\u001b[0m\u001b[1;33m\u001b[0m\u001b[0m\n\u001b[0;32m   7433\u001b[0m     \u001b[1;32mexcept\u001b[0m \u001b[0mException\u001b[0m \u001b[1;32mas\u001b[0m \u001b[0me\u001b[0m\u001b[1;33m:\u001b[0m\u001b[1;33m\u001b[0m\u001b[1;33m\u001b[0m\u001b[0m\n\u001b[1;32m-> 7434\u001b[1;33m         \u001b[1;32mraise\u001b[0m \u001b[0me\u001b[0m\u001b[1;33m\u001b[0m\u001b[1;33m\u001b[0m\u001b[0m\n\u001b[0m\u001b[0;32m   7435\u001b[0m \u001b[1;33m\u001b[0m\u001b[0m\n\u001b[0;32m   7436\u001b[0m \u001b[1;33m@\u001b[0m\u001b[0mgptooldoc\u001b[0m\u001b[1;33m(\u001b[0m\u001b[1;34m'Eliminate_management'\u001b[0m\u001b[1;33m,\u001b[0m \u001b[1;32mNone\u001b[0m\u001b[1;33m)\u001b[0m\u001b[1;33m\u001b[0m\u001b[1;33m\u001b[0m\u001b[0m\n",
      "\u001b[1;32mC:\\Program Files\\ArcGIS\\Pro\\Resources\\ArcPy\\arcpy\\management.py\u001b[0m in \u001b[0;36mDissolve\u001b[1;34m(in_features, out_feature_class, dissolve_field, statistics_fields, multi_part, unsplit_lines, concatenation_separator)\u001b[0m\n\u001b[0;32m   7429\u001b[0m     \u001b[1;32mfrom\u001b[0m \u001b[0marcpy\u001b[0m\u001b[1;33m.\u001b[0m\u001b[0marcobjects\u001b[0m\u001b[1;33m.\u001b[0m\u001b[0marcobjectconversion\u001b[0m \u001b[1;32mimport\u001b[0m \u001b[0mconvertArcObjectToPythonObject\u001b[0m\u001b[1;33m\u001b[0m\u001b[1;33m\u001b[0m\u001b[0m\n\u001b[0;32m   7430\u001b[0m     \u001b[1;32mtry\u001b[0m\u001b[1;33m:\u001b[0m\u001b[1;33m\u001b[0m\u001b[1;33m\u001b[0m\u001b[0m\n\u001b[1;32m-> 7431\u001b[1;33m         \u001b[0mretval\u001b[0m \u001b[1;33m=\u001b[0m \u001b[0mconvertArcObjectToPythonObject\u001b[0m\u001b[1;33m(\u001b[0m\u001b[0mgp\u001b[0m\u001b[1;33m.\u001b[0m\u001b[0mDissolve_management\u001b[0m\u001b[1;33m(\u001b[0m\u001b[1;33m*\u001b[0m\u001b[0mgp_fixargs\u001b[0m\u001b[1;33m(\u001b[0m\u001b[1;33m(\u001b[0m\u001b[0min_features\u001b[0m\u001b[1;33m,\u001b[0m \u001b[0mout_feature_class\u001b[0m\u001b[1;33m,\u001b[0m \u001b[0mdissolve_field\u001b[0m\u001b[1;33m,\u001b[0m \u001b[0mstatistics_fields\u001b[0m\u001b[1;33m,\u001b[0m \u001b[0mmulti_part\u001b[0m\u001b[1;33m,\u001b[0m \u001b[0munsplit_lines\u001b[0m\u001b[1;33m,\u001b[0m \u001b[0mconcatenation_separator\u001b[0m\u001b[1;33m)\u001b[0m\u001b[1;33m,\u001b[0m \u001b[1;32mTrue\u001b[0m\u001b[1;33m)\u001b[0m\u001b[1;33m)\u001b[0m\u001b[1;33m)\u001b[0m\u001b[1;33m\u001b[0m\u001b[1;33m\u001b[0m\u001b[0m\n\u001b[0m\u001b[0;32m   7432\u001b[0m         \u001b[1;32mreturn\u001b[0m \u001b[0mretval\u001b[0m\u001b[1;33m\u001b[0m\u001b[1;33m\u001b[0m\u001b[0m\n\u001b[0;32m   7433\u001b[0m     \u001b[1;32mexcept\u001b[0m \u001b[0mException\u001b[0m \u001b[1;32mas\u001b[0m \u001b[0me\u001b[0m\u001b[1;33m:\u001b[0m\u001b[1;33m\u001b[0m\u001b[1;33m\u001b[0m\u001b[0m\n",
      "\u001b[1;32mC:\\Program Files\\ArcGIS\\Pro\\Resources\\ArcPy\\arcpy\\geoprocessing\\_base.py\u001b[0m in \u001b[0;36m<lambda>\u001b[1;34m(*args)\u001b[0m\n\u001b[0;32m    518\u001b[0m         \u001b[0mval\u001b[0m \u001b[1;33m=\u001b[0m \u001b[0mgetattr\u001b[0m\u001b[1;33m(\u001b[0m\u001b[0mself\u001b[0m\u001b[1;33m.\u001b[0m\u001b[0m_gp\u001b[0m\u001b[1;33m,\u001b[0m \u001b[0mattr\u001b[0m\u001b[1;33m)\u001b[0m\u001b[1;33m\u001b[0m\u001b[1;33m\u001b[0m\u001b[0m\n\u001b[0;32m    519\u001b[0m         \u001b[1;32mif\u001b[0m \u001b[0mcallable\u001b[0m\u001b[1;33m(\u001b[0m\u001b[0mval\u001b[0m\u001b[1;33m)\u001b[0m\u001b[1;33m:\u001b[0m\u001b[1;33m\u001b[0m\u001b[1;33m\u001b[0m\u001b[0m\n\u001b[1;32m--> 520\u001b[1;33m             \u001b[1;32mreturn\u001b[0m \u001b[1;32mlambda\u001b[0m \u001b[1;33m*\u001b[0m\u001b[0margs\u001b[0m\u001b[1;33m:\u001b[0m \u001b[0mval\u001b[0m\u001b[1;33m(\u001b[0m\u001b[1;33m*\u001b[0m\u001b[0mgp_fixargs\u001b[0m\u001b[1;33m(\u001b[0m\u001b[0margs\u001b[0m\u001b[1;33m,\u001b[0m \u001b[1;32mTrue\u001b[0m\u001b[1;33m)\u001b[0m\u001b[1;33m)\u001b[0m\u001b[1;33m\u001b[0m\u001b[1;33m\u001b[0m\u001b[0m\n\u001b[0m\u001b[0;32m    521\u001b[0m         \u001b[1;32melse\u001b[0m\u001b[1;33m:\u001b[0m\u001b[1;33m\u001b[0m\u001b[1;33m\u001b[0m\u001b[0m\n\u001b[0;32m    522\u001b[0m             \u001b[1;32mreturn\u001b[0m \u001b[0mconvertArcObjectToPythonObject\u001b[0m\u001b[1;33m(\u001b[0m\u001b[0mval\u001b[0m\u001b[1;33m)\u001b[0m\u001b[1;33m\u001b[0m\u001b[1;33m\u001b[0m\u001b[0m\n",
      "\u001b[1;31mExecuteError\u001b[0m: ERROR 160196: Invalid Topology\nFailed to execute (Dissolve).\n"
     ]
    }
   ],
   "source": []
  },
  {
   "cell_type": "code",
   "execution_count": null,
   "id": "60e6d567",
   "metadata": {},
   "outputs": [],
   "source": []
  }
 ],
 "metadata": {
  "kernelspec": {
   "display_name": "Python 3 (ipykernel)",
   "language": "python",
   "name": "python3"
  },
  "language_info": {
   "codemirror_mode": {
    "name": "ipython",
    "version": 3
   },
   "file_extension": ".py",
   "mimetype": "text/x-python",
   "name": "python",
   "nbconvert_exporter": "python",
   "pygments_lexer": "ipython3",
   "version": "3.9.18"
  }
 },
 "nbformat": 4,
 "nbformat_minor": 5
}
