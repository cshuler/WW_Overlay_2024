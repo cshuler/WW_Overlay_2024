{
 "cells": [
  {
   "cell_type": "code",
   "execution_count": 8,
   "id": "1e278869",
   "metadata": {},
   "outputs": [],
   "source": [
    "import os \n",
    "import pandas as pd\n",
    "import numpy as np\n",
    "import arcpy\n",
    "\n",
    "\n",
    "# Enable overwriting of existing files\n",
    "arcpy.env.overwriteOutput = True"
   ]
  },
  {
   "cell_type": "code",
   "execution_count": 9,
   "id": "199afd43",
   "metadata": {},
   "outputs": [],
   "source": [
    "## Cut out areas in TMK Plats designated for P1 Zoning under County Zoning"
   ]
  },
  {
   "cell_type": "code",
   "execution_count": null,
   "id": "f3b0a28c",
   "metadata": {},
   "outputs": [],
   "source": []
  },
  {
   "cell_type": "code",
   "execution_count": 10,
   "id": "a7715dea",
   "metadata": {},
   "outputs": [],
   "source": [
    "# Paths to your datasets\n",
    "tax_plats = r\"C:\\Users\\Sea Grant\\Documents\\GitHub\\WW_Overlay_2024\\Data\\TMK_Plat\\Parcels_-_TMK_Plat.shp\"\n",
    "conservation_zones = r\"C:\\Users\\Sea Grant\\Documents\\GitHub\\WW_Overlay_2024\\Data\\HonoluluZoning_P1\\HonoluluZoning_P1.shp\"\n",
    "output_layer = r\"C:\\Users\\Sea Grant\\Documents\\GitHub\\WW_Overlay_2024\\Data\\Outputs\\TaxPlat_No_P1\\TaxPlat_No_P1.shp\"\n"
   ]
  },
  {
   "cell_type": "code",
   "execution_count": 11,
   "id": "15edc664",
   "metadata": {},
   "outputs": [
    {
     "name": "stdout",
     "output_type": "stream",
     "text": [
      "Starting Erase operation...\n",
      "Erase operation completed successfully. Output saved at: C:\\Users\\Sea Grant\\Documents\\GitHub\\WW_Overlay_2024\\Data\\Outputs\\TaxPlat_No_P1\\TaxPlat_No_P1.shp\n"
     ]
    }
   ],
   "source": [
    "# Run Erase tool\n",
    "try:\n",
    "    print(\"Starting Erase operation...\")\n",
    "    arcpy.analysis.Erase(in_features=tax_plats, \n",
    "                         erase_features=conservation_zones, \n",
    "                         out_feature_class=output_layer)\n",
    "    print(\"Erase operation completed successfully. Output saved at:\", output_layer)\n",
    "except arcpy.ExecuteError:\n",
    "    print(\"ArcPy Error:\", arcpy.GetMessages(2))\n",
    "except Exception as e:\n",
    "    print(\"General Error:\", e)"
   ]
  },
  {
   "cell_type": "code",
   "execution_count": null,
   "id": "04dc64f6",
   "metadata": {},
   "outputs": [],
   "source": []
  }
 ],
 "metadata": {
  "kernelspec": {
   "display_name": "Python 3 (ipykernel)",
   "language": "python",
   "name": "python3"
  },
  "language_info": {
   "codemirror_mode": {
    "name": "ipython",
    "version": 3
   },
   "file_extension": ".py",
   "mimetype": "text/x-python",
   "name": "python",
   "nbconvert_exporter": "python",
   "pygments_lexer": "ipython3",
   "version": "3.9.18"
  }
 },
 "nbformat": 4,
 "nbformat_minor": 5
}
